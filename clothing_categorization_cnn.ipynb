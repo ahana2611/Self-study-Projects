{
  "cells": [
    {
      "cell_type": "markdown",
      "metadata": {
        "id": "view-in-github",
        "colab_type": "text"
      },
      "source": [
        "<a href=\"https://colab.research.google.com/github/ahana2611/categorizing-images-of-clothing-with-CNNs/blob/main/clothing_categorization_cnn.ipynb\" target=\"_parent\"><img src=\"https://colab.research.google.com/assets/colab-badge.svg\" alt=\"Open In Colab\"/></a>"
      ]
    },
    {
      "cell_type": "code",
      "execution_count": null,
      "metadata": {
        "colab": {
          "base_uri": "https://localhost:8080/"
        },
        "id": "WfbtvABatexC",
        "outputId": "7cfdbe5b-a550-48cd-be80-69df7097676a"
      },
      "outputs": [
        {
          "output_type": "stream",
          "name": "stderr",
          "text": [
            "100%|██████████| 26.4M/26.4M [00:02<00:00, 12.0MB/s]\n",
            "100%|██████████| 29.5k/29.5k [00:00<00:00, 204kB/s]\n",
            "100%|██████████| 4.42M/4.42M [00:01<00:00, 3.79MB/s]\n",
            "100%|██████████| 5.15k/5.15k [00:00<00:00, 16.1MB/s]\n"
          ]
        }
      ],
      "source": [
        "import torch, torchvision\n",
        "from torchvision import transforms\n",
        "image_path = './'\n",
        "transform = transforms.Compose([transforms.ToTensor()])\n",
        "train_dataset = torchvision.datasets.FashionMNIST(root=image_path, train=True, download=True, transform=transform)\n",
        "test_dataset = torchvision.datasets.FashionMNIST(root=image_path, train=False, download=True, transform=transform)"
      ]
    },
    {
      "cell_type": "code",
      "execution_count": null,
      "metadata": {
        "colab": {
          "base_uri": "https://localhost:8080/"
        },
        "id": "9O1_yHmBt-V4",
        "outputId": "b6b521c2-8e4c-47ee-b446-bbf6378f8604"
      },
      "outputs": [
        {
          "output_type": "stream",
          "name": "stdout",
          "text": [
            "Dataset FashionMNIST\n",
            "    Number of datapoints: 60000\n",
            "    Root location: ./\n",
            "    Split: Train\n",
            "    StandardTransform\n",
            "Transform: Compose(\n",
            "               ToTensor()\n",
            "           )\n"
          ]
        }
      ],
      "source": [
        "print(train_dataset)"
      ]
    },
    {
      "cell_type": "code",
      "execution_count": null,
      "metadata": {
        "colab": {
          "base_uri": "https://localhost:8080/"
        },
        "id": "GoBCyccUwIUJ",
        "outputId": "166a0402-8dde-4cb8-9a81-221c2870cd36"
      },
      "outputs": [
        {
          "output_type": "stream",
          "name": "stdout",
          "text": [
            "Dataset FashionMNIST\n",
            "    Number of datapoints: 10000\n",
            "    Root location: ./\n",
            "    Split: Test\n",
            "    StandardTransform\n",
            "Transform: Compose(\n",
            "               ToTensor()\n",
            "           )\n"
          ]
        }
      ],
      "source": [
        "print(test_dataset)"
      ]
    },
    {
      "cell_type": "code",
      "execution_count": null,
      "metadata": {
        "id": "6uuNMnT9wRvU"
      },
      "outputs": [],
      "source": [
        "from torch.utils.data import DataLoader\n",
        "batch_size = 64\n",
        "torch.manual_seed(42)\n",
        "train_dl = DataLoader(train_dataset, batch_size, shuffle = True)"
      ]
    },
    {
      "cell_type": "code",
      "execution_count": null,
      "metadata": {
        "colab": {
          "base_uri": "https://localhost:8080/"
        },
        "id": "4YU7lPTGwoqB",
        "outputId": "f771813d-7b4d-4e6f-def3-c0f680946135"
      },
      "outputs": [
        {
          "output_type": "stream",
          "name": "stdout",
          "text": [
            "tensor([5, 7, 4, 7, 3, 8, 9, 5, 3, 1, 2, 3, 2, 3, 3, 7, 9, 9, 3, 2, 4, 6, 3, 5,\n",
            "        5, 3, 2, 0, 0, 8, 4, 2, 8, 5, 9, 2, 4, 9, 4, 4, 3, 4, 9, 7, 2, 0, 4, 5,\n",
            "        4, 8, 2, 6, 7, 0, 2, 0, 6, 3, 3, 5, 6, 0, 0, 8])\n"
          ]
        }
      ],
      "source": [
        "data_iter = iter(train_dl)\n",
        "images, labels = next(data_iter)\n",
        "print(labels)"
      ]
    },
    {
      "cell_type": "code",
      "execution_count": null,
      "metadata": {
        "id": "IpKmVGfwwzDI"
      },
      "outputs": [],
      "source": [
        "class_names = ['T-shirt/top','Trouser', 'Pullover','Dress', 'Coat', 'Sandal', 'Shirt', ' Sneaker','Bag', 'Ankle Boot']"
      ]
    },
    {
      "cell_type": "code",
      "execution_count": null,
      "metadata": {
        "colab": {
          "base_uri": "https://localhost:8080/"
        },
        "id": "zDMyRy4Xx7oK",
        "outputId": "7c11843e-f09f-4dbd-c7df-0fc68d8fa8fe"
      },
      "outputs": [
        {
          "output_type": "stream",
          "name": "stdout",
          "text": [
            "torch.Size([1, 28, 28])\n",
            "tensor(1.) tensor(0.)\n"
          ]
        }
      ],
      "source": [
        "print(images[0].shape)\n",
        "print(torch.max(images), torch.min(images))"
      ]
    },
    {
      "cell_type": "code",
      "execution_count": null,
      "metadata": {
        "id": "Fh0bA7uYyDx5",
        "colab": {
          "base_uri": "https://localhost:8080/",
          "height": 452
        },
        "outputId": "ff9f081a-0df1-44cb-d9b1-4eb1d9924ccf"
      },
      "outputs": [
        {
          "output_type": "display_data",
          "data": {
            "text/plain": [
              "<Figure size 640x480 with 2 Axes>"
            ],
            "image/png": "[encoded data removed]"
          },
          "metadata": {}
        }
      ],
      "source": [
        "import numpy as np\n",
        "import matplotlib.pyplot as plt\n",
        "npimg = images[1].numpy()\n",
        "plt.imshow(np.transpose(npimg, (1, 2, 0)))\n",
        "plt.colorbar()\n",
        "plt.title(class_names[labels[1]])\n",
        "plt.show()"
      ]
    },
    {
      "cell_type": "code",
      "source": [
        "for i in range(16):\n",
        "  plt.subplot(4, 4, i+1)\n",
        "  plt.subplots_adjust(hspace=.3)\n",
        "  plt.xticks([])\n",
        "  plt.yticks([])\n",
        "  npimg = images[i].numpy()\n",
        "  plt.imshow(np.transpose(npimg, (1, 2, 0)),cmap=\"Greys\")\n",
        "  plt.title(class_names[labels[i]])\n",
        "plt.show()"
      ],
      "metadata": {
        "colab": {
          "base_uri": "https://localhost:8080/",
          "height": 428
        },
        "id": "-6Qu04jwzZDs",
        "outputId": "f12c4a76-dc42-47db-e350-7807d50aa7e9"
      },
      "execution_count": null,
      "outputs": [
        {
          "output_type": "display_data",
          "data": {
            "text/plain": [
              "<Figure size 640x480 with 16 Axes>"
            ],
            "image/png": "[encoded data removed]"
          },
          "metadata": {}
        }
      ]
    },
    {
      "cell_type": "code",
      "source": [
        "import torch.nn as nn\n",
        "model = nn.Sequential()"
      ],
      "metadata": {
        "id": "p0v834vQ0M0E"
      },
      "execution_count": null,
      "outputs": []
    },
    {
      "cell_type": "code",
      "source": [
        "model.add_module('conv1',\n",
        "                 nn.Conv2d(in_channels = 1,\n",
        "                           out_channels = 32,\n",
        "                           kernel_size = 3)\n",
        "                 )\n",
        "model.add_module('relu1',nn.ReLU())"
      ],
      "metadata": {
        "id": "OJIXcue70qw6"
      },
      "execution_count": null,
      "outputs": []
    },
    {
      "cell_type": "code",
      "source": [
        "model.add_module('pool1',nn.MaxPool2d(kernel_size=2))"
      ],
      "metadata": {
        "id": "fi7UTHDQ1AsX"
      },
      "execution_count": null,
      "outputs": []
    },
    {
      "cell_type": "code",
      "source": [
        "model.add_module('conv2',\n",
        "                 nn.Conv2d(in_channels = 32,\n",
        "                           out_channels = 64,\n",
        "                           kernel_size = 3)\n",
        "                 )\n",
        "model.add_module('relu2',nn.ReLU())"
      ],
      "metadata": {
        "id": "ymwuuhSO1UUP"
      },
      "execution_count": null,
      "outputs": []
    },
    {
      "cell_type": "code",
      "source": [
        "model.add_module('pool2',nn.MaxPool2d(kernel_size=2))"
      ],
      "metadata": {
        "id": "sCgVfIQK1pap"
      },
      "execution_count": null,
      "outputs": []
    },
    {
      "cell_type": "code",
      "source": [
        "model.add_module('conv3',\n",
        "                 nn.Conv2d(in_channels = 64,\n",
        "                           out_channels = 128,\n",
        "                           kernel_size = 3)\n",
        "                 )\n",
        "model.add_module('relu3',nn.ReLU())"
      ],
      "metadata": {
        "id": "is9oWD5S1tAm"
      },
      "execution_count": null,
      "outputs": []
    },
    {
      "cell_type": "code",
      "source": [
        "x = torch.rand((64, 1, 28, 28))\n",
        "print(model(x).shape)\n"
      ],
      "metadata": {
        "colab": {
          "base_uri": "https://localhost:8080/"
        },
        "id": "e0hpvkqS14-Q",
        "outputId": "eae7fe6c-3c40-496b-fa1f-ac8936482552"
      },
      "execution_count": null,
      "outputs": [
        {
          "output_type": "stream",
          "name": "stdout",
          "text": [
            "torch.Size([64, 128, 3, 3])\n"
          ]
        }
      ]
    },
    {
      "cell_type": "code",
      "source": [
        "model.add_module('flatten',nn.Flatten())"
      ],
      "metadata": {
        "id": "hraRK83K1z3Y"
      },
      "execution_count": null,
      "outputs": []
    },
    {
      "cell_type": "code",
      "source": [
        "print(model(x).shape)"
      ],
      "metadata": {
        "colab": {
          "base_uri": "https://localhost:8080/"
        },
        "id": "jYfiu6Pg2cfc",
        "outputId": "fcd2324d-ef26-42c6-de46-4aa52d0251ab"
      },
      "execution_count": null,
      "outputs": [
        {
          "output_type": "stream",
          "name": "stdout",
          "text": [
            "torch.Size([64, 1152])\n"
          ]
        }
      ]
    },
    {
      "cell_type": "code",
      "source": [
        "model.add_module('fc1', nn.Linear(1152, 64))\n",
        "model.add_module('relu4', nn.ReLU())"
      ],
      "metadata": {
        "id": "aIiQViMJ2gjb"
      },
      "execution_count": null,
      "outputs": []
    },
    {
      "cell_type": "code",
      "source": [
        "model.add_module('fc2', nn.Linear(64, 10))\n",
        "model.add_module('output', nn.Softmax(dim =1))"
      ],
      "metadata": {
        "id": "uDAVPWHI2xal"
      },
      "execution_count": null,
      "outputs": []
    },
    {
      "cell_type": "code",
      "source": [
        "print(model)"
      ],
      "metadata": {
        "colab": {
          "base_uri": "https://localhost:8080/"
        },
        "id": "wu9YlM453AU_",
        "outputId": "82a6b3db-0baf-4903-9d8a-aac8ab3bef66"
      },
      "execution_count": null,
      "outputs": [
        {
          "output_type": "stream",
          "name": "stdout",
          "text": [
            "Sequential(\n",
            "  (conv1): Conv2d(1, 32, kernel_size=(3, 3), stride=(1, 1))\n",
            "  (relu1): ReLU()\n",
            "  (pool1): MaxPool2d(kernel_size=2, stride=2, padding=0, dilation=1, ceil_mode=False)\n",
            "  (conv2): Conv2d(32, 64, kernel_size=(3, 3), stride=(1, 1))\n",
            "  (relu2): ReLU()\n",
            "  (pool2): MaxPool2d(kernel_size=2, stride=2, padding=0, dilation=1, ceil_mode=False)\n",
            "  (conv3): Conv2d(64, 128, kernel_size=(3, 3), stride=(1, 1))\n",
            "  (relu3): ReLU()\n",
            "  (flatten): Flatten(start_dim=1, end_dim=-1)\n",
            "  (fc1): Linear(in_features=1152, out_features=64, bias=True)\n",
            "  (relu4): ReLU()\n",
            "  (fc2): Linear(in_features=64, out_features=10, bias=True)\n",
            "  (output): Softmax(dim=1)\n",
            ")\n"
          ]
        }
      ]
    },
    {
      "cell_type": "code",
      "source": [
        "\n",
        "from torchsummary import summary\n",
        "summary(model, input_size=(1, 28, 28), batch_size =-1, device=\"cpu\")"
      ],
      "metadata": {
        "colab": {
          "base_uri": "https://localhost:8080/"
        },
        "id": "181jhxDm3CAc",
        "outputId": "8a5e4466-2c87-4ee3-fc3d-5c742ce41b69"
      },
      "execution_count": null,
      "outputs": [
        {
          "output_type": "stream",
          "name": "stdout",
          "text": [
            "----------------------------------------------------------------\n",
            "        Layer (type)               Output Shape         Param #\n",
            "================================================================\n",
            "            Conv2d-1           [-1, 32, 26, 26]             320\n",
            "              ReLU-2           [-1, 32, 26, 26]               0\n",
            "         MaxPool2d-3           [-1, 32, 13, 13]               0\n",
            "            Conv2d-4           [-1, 64, 11, 11]          18,496\n",
            "              ReLU-5           [-1, 64, 11, 11]               0\n",
            "         MaxPool2d-6             [-1, 64, 5, 5]               0\n",
            "            Conv2d-7            [-1, 128, 3, 3]          73,856\n",
            "              ReLU-8            [-1, 128, 3, 3]               0\n",
            "           Flatten-9                 [-1, 1152]               0\n",
            "           Linear-10                   [-1, 64]          73,792\n",
            "             ReLU-11                   [-1, 64]               0\n",
            "           Linear-12                   [-1, 10]             650\n",
            "          Softmax-13                   [-1, 10]               0\n",
            "================================================================\n",
            "Total params: 167,114\n",
            "Trainable params: 167,114\n",
            "Non-trainable params: 0\n",
            "----------------------------------------------------------------\n",
            "Input size (MB): 0.00\n",
            "Forward/backward pass size (MB): 0.53\n",
            "Params size (MB): 0.64\n",
            "Estimated Total Size (MB): 1.17\n",
            "----------------------------------------------------------------\n"
          ]
        }
      ]
    },
    {
      "cell_type": "code",
      "source": [
        "device = torch.device(\"cuda:0\")\n",
        "model = model.to(device)"
      ],
      "metadata": {
        "id": "N7TrxEhR3SZJ"
      },
      "execution_count": null,
      "outputs": []
    },
    {
      "cell_type": "code",
      "source": [
        "loss_fn = nn.CrossEntropyLoss()\n",
        "optimizer = torch.optim.Adam(model.parameters(), lr=0.001)"
      ],
      "metadata": {
        "id": "bqfkx8E6v2w6"
      },
      "execution_count": null,
      "outputs": []
    },
    {
      "cell_type": "code",
      "source": [
        "def train(model, optimizer, num_epochs, train_dl):\n",
        "  for epoch in range(num_epochs):\n",
        "    loss_train = 0\n",
        "    accuracy_train = 0\n",
        "    for x_batch, y_batch in train_dl:\n",
        "      x_batch = x_batch.to(device)\n",
        "      y_batch = y_batch.to(device)\n",
        "      pred = model(x_batch)\n",
        "      loss = loss_fn(pred, y_batch)\n",
        "      loss.backward()\n",
        "      optimizer.step()\n",
        "      optimizer.zero_grad()\n",
        "      loss_train += loss.item() * y_batch.size(0)\n",
        "      is_correct = (torch.argmax(pred, dim=1) == y_batch).float()\n",
        "      accuracy_train += is_correct.sum().cpu()\n",
        "    loss_train /= len(train_dl.dataset)\n",
        "    accuracy_train /= len(train_dl.dataset)\n",
        "\n",
        "    print(f'Epoch {epoch+1} - loss: {loss_train:.4f} - accuracy: {accuracy_train:.4f}')\n"
      ],
      "metadata": {
        "id": "2xNk3c1txFQi"
      },
      "execution_count": null,
      "outputs": []
    },
    {
      "cell_type": "code",
      "source": [
        "num_epochs = 30\n",
        "train(model, optimizer, num_epochs, train_dl)"
      ],
      "metadata": {
        "colab": {
          "base_uri": "https://localhost:8080/"
        },
        "id": "ZOFsMZ8aydxp",
        "outputId": "24ec0baf-ecb3-4711-fe01-7a7f0e0e6a8a"
      },
      "execution_count": null,
      "outputs": [
        {
          "output_type": "stream",
          "name": "stdout",
          "text": [
            "Epoch 1 - loss: 1.7263 - accuracy: 0.7380\n",
            "Epoch 2 - loss: 1.6540 - accuracy: 0.8082\n",
            "Epoch 3 - loss: 1.6377 - accuracy: 0.8244\n",
            "Epoch 4 - loss: 1.6165 - accuracy: 0.8446\n",
            "Epoch 5 - loss: 1.5921 - accuracy: 0.8694\n",
            "Epoch 6 - loss: 1.5812 - accuracy: 0.8801\n",
            "Epoch 7 - loss: 1.5735 - accuracy: 0.8877\n",
            "Epoch 8 - loss: 1.5654 - accuracy: 0.8959\n",
            "Epoch 9 - loss: 1.5628 - accuracy: 0.8986\n",
            "Epoch 10 - loss: 1.5577 - accuracy: 0.9036\n",
            "Epoch 11 - loss: 1.5553 - accuracy: 0.9058\n",
            "Epoch 12 - loss: 1.5532 - accuracy: 0.9078\n",
            "Epoch 13 - loss: 1.5494 - accuracy: 0.9114\n",
            "Epoch 14 - loss: 1.5477 - accuracy: 0.9137\n",
            "Epoch 15 - loss: 1.5446 - accuracy: 0.9168\n",
            "Epoch 16 - loss: 1.5430 - accuracy: 0.9182\n",
            "Epoch 17 - loss: 1.5403 - accuracy: 0.9211\n",
            "Epoch 18 - loss: 1.5383 - accuracy: 0.9229\n",
            "Epoch 19 - loss: 1.5381 - accuracy: 0.9230\n",
            "Epoch 20 - loss: 1.5363 - accuracy: 0.9248\n",
            "Epoch 21 - loss: 1.5360 - accuracy: 0.9250\n",
            "Epoch 22 - loss: 1.5339 - accuracy: 0.9274\n",
            "Epoch 23 - loss: 1.5334 - accuracy: 0.9274\n",
            "Epoch 24 - loss: 1.5309 - accuracy: 0.9303\n",
            "Epoch 25 - loss: 1.5294 - accuracy: 0.9317\n",
            "Epoch 26 - loss: 1.5294 - accuracy: 0.9319\n",
            "Epoch 27 - loss: 1.5284 - accuracy: 0.9326\n",
            "Epoch 28 - loss: 1.5273 - accuracy: 0.9336\n",
            "Epoch 29 - loss: 1.5263 - accuracy: 0.9349\n",
            "Epoch 30 - loss: 1.5244 - accuracy: 0.9366\n"
          ]
        }
      ]
    },
    {
      "cell_type": "code",
      "source": [
        "test_dl = DataLoader(test_dataset, batch_size=64, shuffle=False)\n",
        "def evaluate_model(model, test_dl):\n",
        "  accuracy_test = 0\n",
        "  with torch.no_grad():\n",
        "    for x_batch, y_batch in test_dl:\n",
        "      pred = model.cpu()(x_batch)\n",
        "      is_correct = torch.argmax(pred, dim=1) == y_batch\n",
        "      accuracy_test += is_correct.float().sum().item()\n",
        "  print(f'Accuracy on test set: {100 * accuracy_test / 10000}%')\n",
        "evaluate_model(model,test_dl)"
      ],
      "metadata": {
        "colab": {
          "base_uri": "https://localhost:8080/"
        },
        "id": "jp2KAT6Mykga",
        "outputId": "8c63732b-279b-4fba-f496-4ea956b9f73c"
      },
      "execution_count": null,
      "outputs": [
        {
          "output_type": "stream",
          "name": "stdout",
          "text": [
            "Accuracy on test set: 77.88%\n"
          ]
        }
      ]
    },
    {
      "cell_type": "code",
      "source": [
        "conv3_weight = model.conv3.weight.data\n",
        "print(conv3_weight.shape)"
      ],
      "metadata": {
        "colab": {
          "base_uri": "https://localhost:8080/"
        },
        "id": "5fgjFYOjytv5",
        "outputId": "06015399-7532-40d3-9bb4-c244f55d9b5c"
      },
      "execution_count": null,
      "outputs": [
        {
          "output_type": "stream",
          "name": "stdout",
          "text": [
            "torch.Size([128, 64, 3, 3])\n"
          ]
        }
      ]
    },
    {
      "cell_type": "code",
      "source": [
        "n_filters = 16\n",
        "for i in range(n_filters):\n",
        "  weight = conv3_weight[i].cpu().numpy()\n",
        "  plt.subplot(4, 4, i+1)\n",
        "  plt.xticks([])\n",
        "  plt.yticks([])\n",
        "  plt.imshow(weight, cmap='gray')\n",
        "plt.show()\n"
      ],
      "metadata": {
        "colab": {
          "base_uri": "https://localhost:8080/",
          "height": 704
        },
        "id": "1jOwM9GYzqPI",
        "outputId": "297b1185-fb1d-4a7f-8c2b-023fce2feb1c"
      },
      "execution_count": null,
      "outputs": [
        {
          "output_type": "stream",
          "name": "stderr",
          "text": [
            "WARNING:matplotlib.image:Clipping input data to the valid range for imshow with RGB data ([0..1] for floats or [0..255] for integers). Got range [-0.71678215..0.49486303].\n",
            "WARNING:matplotlib.image:Clipping input data to the valid range for imshow with RGB data ([0..1] for floats or [0..255] for integers). Got range [-0.07757576..0.06744492].\n",
            "WARNING:matplotlib.image:Clipping input data to the valid range for imshow with RGB data ([0..1] for floats or [0..255] for integers). Got range [-0.6474563..0.47469535].\n",
            "WARNING:matplotlib.image:Clipping input data to the valid range for imshow with RGB data ([0..1] for floats or [0..255] for integers). Got range [-0.67130935..0.5397493].\n",
            "WARNING:matplotlib.image:Clipping input data to the valid range for imshow with RGB data ([0..1] for floats or [0..255] for integers). Got range [-0.08064593..0.0470038].\n",
            "WARNING:matplotlib.image:Clipping input data to the valid range for imshow with RGB data ([0..1] for floats or [0..255] for integers). Got range [-0.58080757..0.6095373].\n",
            "WARNING:matplotlib.image:Clipping input data to the valid range for imshow with RGB data ([0..1] for floats or [0..255] for integers). Got range [-0.870529..0.5358494].\n",
            "WARNING:matplotlib.image:Clipping input data to the valid range for imshow with RGB data ([0..1] for floats or [0..255] for integers). Got range [-0.6694103..0.66047835].\n",
            "WARNING:matplotlib.image:Clipping input data to the valid range for imshow with RGB data ([0..1] for floats or [0..255] for integers). Got range [-0.6459921..0.40377882].\n",
            "WARNING:matplotlib.image:Clipping input data to the valid range for imshow with RGB data ([0..1] for floats or [0..255] for integers). Got range [-0.9703967..0.561753].\n",
            "WARNING:matplotlib.image:Clipping input data to the valid range for imshow with RGB data ([0..1] for floats or [0..255] for integers). Got range [-0.4606963..0.5866513].\n",
            "WARNING:matplotlib.image:Clipping input data to the valid range for imshow with RGB data ([0..1] for floats or [0..255] for integers). Got range [-0.6360636..0.4086306].\n",
            "WARNING:matplotlib.image:Clipping input data to the valid range for imshow with RGB data ([0..1] for floats or [0..255] for integers). Got range [-0.075995855..0.04073378].\n",
            "WARNING:matplotlib.image:Clipping input data to the valid range for imshow with RGB data ([0..1] for floats or [0..255] for integers). Got range [-0.7596411..0.5171491].\n",
            "WARNING:matplotlib.image:Clipping input data to the valid range for imshow with RGB data ([0..1] for floats or [0..255] for integers). Got range [-1.2153072..0.5199714].\n",
            "WARNING:matplotlib.image:Clipping input data to the valid range for imshow with RGB data ([0..1] for floats or [0..255] for integers). Got range [-0.711077..0.5703341].\n"
          ]
        },
        {
          "output_type": "display_data",
          "data": {
            "text/plain": [
              "<Figure size 640x480 with 16 Axes>"
            ],
            "image/png": "[encoded data removed]"
          },
          "metadata": {}
        }
      ]
    },
    {
      "cell_type": "code",
      "source": [
        "image = images[1]\n",
        "img_flipped = transforms.functional.hflip(image)"
      ],
      "metadata": {
        "id": "3o-dTSle0D3f"
      },
      "execution_count": null,
      "outputs": []
    },
    {
      "cell_type": "code",
      "source": [
        "def display_image_greys(image):\n",
        "  npimg = image.numpy()\n",
        "  plt.imshow(np.transpose(npimg, (1, 2, 0)),cmap = \"Greys\")\n",
        "  plt.xticks([])\n",
        "  plt.yticks([])\n",
        "\n",
        "plt.figure(figsize=(8,8))\n",
        "plt.subplot(1, 2, 1)\n",
        "display_image_greys(image)\n",
        "plt.subplot(1, 2, 2)\n",
        "display_image_greys(img_flipped)\n",
        "plt.show()"
      ],
      "metadata": {
        "colab": {
          "base_uri": "https://localhost:8080/",
          "height": 318
        },
        "id": "Aou4C4FA0dqE",
        "outputId": "48da63e4-f168-49b5-a2d2-eabd3d76b409"
      },
      "execution_count": null,
      "outputs": [
        {
          "output_type": "display_data",
          "data": {
            "text/plain": [
              "<Figure size 800x800 with 2 Axes>"
            ],
            "image/png": "[encoded data removed]"
          },
          "metadata": {}
        }
      ]
    },
    {
      "cell_type": "code",
      "source": [
        "torch.manual_seed(42)\n",
        "flip_transform = transforms.Compose([transforms.RandomHorizontalFlip()])\n",
        "plt.figure(figsize=(10,10))\n",
        "plt.subplot(1, 4, 1)\n",
        "display_image_greys(image)\n",
        "for i in range(3):\n",
        "  plt.subplot(1, 4, i+2)\n",
        "  img_flip = flip_transform(image)\n",
        "  display_image_greys(img_flip)"
      ],
      "metadata": {
        "colab": {
          "base_uri": "https://localhost:8080/",
          "height": 169
        },
        "id": "cLdAf_m01MLk",
        "outputId": "3b53d492-7a04-4684-a2bf-7ce5e53ada98"
      },
      "execution_count": null,
      "outputs": [
        {
          "output_type": "display_data",
          "data": {
            "text/plain": [
              "<Figure size 1000x1000 with 4 Axes>"
            ],
            "image/png": "[encoded data removed]"
          },
          "metadata": {}
        }
      ]
    },
    {
      "cell_type": "code",
      "source": [
        "torch.manual_seed(42)\n",
        "rotate_transform = transforms.Compose([transforms.RandomRotation(degrees=20)])\n",
        "plt.figure(figsize=(10,10))\n",
        "plt.subplot(1,4,1)\n",
        "display_image_greys(image)\n",
        "for i in range(3):\n",
        "  plt.subplot(1, 4, i+2)\n",
        "  img_rotate = rotate_transform(image)\n",
        "  display_image_greys(img_rotate)"
      ],
      "metadata": {
        "colab": {
          "base_uri": "https://localhost:8080/",
          "height": 169
        },
        "id": "Io8treX-2the",
        "outputId": "6bb3ff9b-b217-476f-df44-fa3f93217759"
      },
      "execution_count": null,
      "outputs": [
        {
          "output_type": "display_data",
          "data": {
            "text/plain": [
              "<Figure size 1000x1000 with 4 Axes>"
            ],
            "image/png": "[encoded data removed]"
          },
          "metadata": {}
        }
      ]
    },
    {
      "cell_type": "code",
      "source": [
        "torch.manual_seed(42)\n",
        "crop_transform  =transforms.Compose([transforms.RandomResizedCrop(size=(28,28), scale=(0.7,1))])\n",
        "plt.figure(figsize=(10, 10))\n",
        "plt.subplot(1, 4, 1)\n",
        "display_image_greys(image)\n",
        "for i in range(3):\n",
        "  plt.subplot(1, 4, i+2)\n",
        "  img_crop = crop_transform(image)\n",
        "  display_image_greys(img_crop)"
      ],
      "metadata": {
        "colab": {
          "base_uri": "https://localhost:8080/",
          "height": 169
        },
        "id": "wl395g0W2_ck",
        "outputId": "8ebca648-f2c9-4b87-8374-89894768dd77"
      },
      "execution_count": null,
      "outputs": [
        {
          "output_type": "display_data",
          "data": {
            "text/plain": [
              "<Figure size 1000x1000 with 4 Axes>"
            ],
            "image/png": "[encoded data removed]"
          },
          "metadata": {}
        }
      ]
    },
    {
      "cell_type": "code",
      "source": [
        "torch.manual_seed(42)\n",
        "transform_train = transforms.Compose([transforms.RandomHorizontalFlip(),\n",
        "                                       transforms.RandomRotation(10),\n",
        "                                       transforms.RandomResizedCrop(size=(28, 28), scale=(0.9, 1)),transforms.ToTensor(),])"
      ],
      "metadata": {
        "id": "37Vb25Zj3ref"
      },
      "execution_count": null,
      "outputs": []
    },
    {
      "cell_type": "code",
      "source": [
        "train_dataset_aug = torchvision.datasets.FashionMNIST(root =image_path,train=True, transform=transform_train, download=False)\n",
        "from torch.utils.data import Subset\n",
        "train_dataset_aug_small = Subset(train_dataset_aug, torch.arange(500))\n"
      ],
      "metadata": {
        "id": "FX2SVHjt4bEz"
      },
      "execution_count": null,
      "outputs": []
    },
    {
      "cell_type": "code",
      "source": [
        "train_dl_aug_small = DataLoader(train_dataset_aug_small, batch_size=64, shuffle=True)"
      ],
      "metadata": {
        "id": "TTtccOy95ZtZ"
      },
      "execution_count": null,
      "outputs": []
    },
    {
      "cell_type": "code",
      "source": [
        "model = nn.Sequential(\n",
        "    nn.Conv2d(1, 32, kernel_size=3, stride=1),\n",
        "    nn.ReLU(),\n",
        "    nn.MaxPool2d(2, 2),\n",
        "\n",
        "    nn.Conv2d(32, 64, kernel_size=3, stride=1),\n",
        "    nn.ReLU(),\n",
        "    nn.MaxPool2d(2, 2),\n",
        "\n",
        "    nn.Conv2d(64, 128, kernel_size=3, stride=1),\n",
        "    nn.ReLU(),\n",
        "\n",
        "    nn.Flatten(),\n",
        "\n",
        "    nn.Linear(1152, 64),  # Adjust 1152 if needed (match flattened feature size)\n",
        "    nn.ReLU(),\n",
        "\n",
        "    nn.Linear(64, 10)\n",
        ")\n",
        "\n",
        "model = model.to(device)\n",
        "optimizer = torch.optim.Adam(model.parameters(), lr=0.001)\n"
      ],
      "metadata": {
        "id": "ZgSQUz8Q50lG"
      },
      "execution_count": null,
      "outputs": []
    },
    {
      "cell_type": "code",
      "source": [
        "train(model, optimizer, 1000, train_dl_aug_small)\n"
      ],
      "metadata": {
        "colab": {
          "base_uri": "https://localhost:8080/"
        },
        "id": "8eHt4VjV6NKq",
        "outputId": "f6ac411e-1040-4767-c0b7-c3c42579f061"
      },
      "execution_count": null,
      "outputs": [
        {
          "output_type": "stream",
          "name": "stdout",
          "text": [
            "Epoch 1 - loss: 2.2795 - accuracy: 0.1540\n",
            "Epoch 2 - loss: 2.0321 - accuracy: 0.3180\n",
            "Epoch 3 - loss: 1.5874 - accuracy: 0.4400\n",
            "Epoch 4 - loss: 1.4407 - accuracy: 0.4500\n",
            "Epoch 5 - loss: 1.2935 - accuracy: 0.4980\n",
            "Epoch 6 - loss: 1.2298 - accuracy: 0.5700\n",
            "Epoch 7 - loss: 1.1128 - accuracy: 0.6120\n",
            "Epoch 8 - loss: 1.0601 - accuracy: 0.6120\n",
            "Epoch 9 - loss: 0.9972 - accuracy: 0.6500\n",
            "Epoch 10 - loss: 0.9529 - accuracy: 0.6680\n",
            "Epoch 11 - loss: 0.8991 - accuracy: 0.6880\n",
            "Epoch 12 - loss: 0.8688 - accuracy: 0.6920\n",
            "Epoch 13 - loss: 0.8692 - accuracy: 0.6860\n",
            "Epoch 14 - loss: 0.8009 - accuracy: 0.7100\n",
            "Epoch 15 - loss: 0.7599 - accuracy: 0.7060\n",
            "Epoch 16 - loss: 0.7619 - accuracy: 0.7140\n",
            "Epoch 17 - loss: 0.7583 - accuracy: 0.7020\n",
            "Epoch 18 - loss: 0.7108 - accuracy: 0.7280\n",
            "Epoch 19 - loss: 0.6991 - accuracy: 0.7500\n",
            "Epoch 20 - loss: 0.7122 - accuracy: 0.7320\n",
            "Epoch 21 - loss: 0.6994 - accuracy: 0.7500\n",
            "Epoch 22 - loss: 0.6881 - accuracy: 0.7440\n",
            "Epoch 23 - loss: 0.6542 - accuracy: 0.7520\n",
            "Epoch 24 - loss: 0.6428 - accuracy: 0.7620\n",
            "Epoch 25 - loss: 0.6290 - accuracy: 0.7600\n",
            "Epoch 26 - loss: 0.6039 - accuracy: 0.7860\n",
            "Epoch 27 - loss: 0.6462 - accuracy: 0.7560\n",
            "Epoch 28 - loss: 0.5654 - accuracy: 0.8000\n",
            "Epoch 29 - loss: 0.5512 - accuracy: 0.8020\n",
            "Epoch 30 - loss: 0.5637 - accuracy: 0.8060\n",
            "Epoch 31 - loss: 0.5389 - accuracy: 0.8120\n",
            "Epoch 32 - loss: 0.5393 - accuracy: 0.7960\n",
            "Epoch 33 - loss: 0.5402 - accuracy: 0.7900\n",
            "Epoch 34 - loss: 0.5365 - accuracy: 0.7980\n",
            "Epoch 35 - loss: 0.5125 - accuracy: 0.8160\n",
            "Epoch 36 - loss: 0.4924 - accuracy: 0.8140\n",
            "Epoch 37 - loss: 0.4899 - accuracy: 0.8220\n",
            "Epoch 38 - loss: 0.5285 - accuracy: 0.7860\n",
            "Epoch 39 - loss: 0.4772 - accuracy: 0.8200\n",
            "Epoch 40 - loss: 0.4997 - accuracy: 0.8100\n",
            "Epoch 41 - loss: 0.4819 - accuracy: 0.8180\n",
            "Epoch 42 - loss: 0.4978 - accuracy: 0.8080\n",
            "Epoch 43 - loss: 0.4765 - accuracy: 0.8140\n",
            "Epoch 44 - loss: 0.4742 - accuracy: 0.8260\n",
            "Epoch 45 - loss: 0.4718 - accuracy: 0.8080\n",
            "Epoch 46 - loss: 0.4984 - accuracy: 0.8260\n",
            "Epoch 47 - loss: 0.4725 - accuracy: 0.8240\n",
            "Epoch 48 - loss: 0.4628 - accuracy: 0.8240\n",
            "Epoch 49 - loss: 0.4385 - accuracy: 0.8320\n",
            "Epoch 50 - loss: 0.4481 - accuracy: 0.8160\n",
            "Epoch 51 - loss: 0.4233 - accuracy: 0.8600\n",
            "Epoch 52 - loss: 0.4257 - accuracy: 0.8620\n",
            "Epoch 53 - loss: 0.4411 - accuracy: 0.8360\n",
            "Epoch 54 - loss: 0.4209 - accuracy: 0.8360\n",
            "Epoch 55 - loss: 0.3874 - accuracy: 0.8740\n",
            "Epoch 56 - loss: 0.3977 - accuracy: 0.8560\n",
            "Epoch 57 - loss: 0.3891 - accuracy: 0.8580\n",
            "Epoch 58 - loss: 0.4382 - accuracy: 0.8340\n",
            "Epoch 59 - loss: 0.4059 - accuracy: 0.8420\n",
            "Epoch 60 - loss: 0.3886 - accuracy: 0.8640\n",
            "Epoch 61 - loss: 0.3937 - accuracy: 0.8600\n",
            "Epoch 62 - loss: 0.3831 - accuracy: 0.8600\n",
            "Epoch 63 - loss: 0.3922 - accuracy: 0.8680\n",
            "Epoch 64 - loss: 0.4003 - accuracy: 0.8500\n",
            "Epoch 65 - loss: 0.3358 - accuracy: 0.8820\n",
            "Epoch 66 - loss: 0.3556 - accuracy: 0.8660\n",
            "Epoch 67 - loss: 0.3602 - accuracy: 0.8680\n",
            "Epoch 68 - loss: 0.3525 - accuracy: 0.8660\n",
            "Epoch 69 - loss: 0.3515 - accuracy: 0.8600\n",
            "Epoch 70 - loss: 0.3256 - accuracy: 0.8740\n",
            "Epoch 71 - loss: 0.3569 - accuracy: 0.8600\n",
            "Epoch 72 - loss: 0.3433 - accuracy: 0.8540\n",
            "Epoch 73 - loss: 0.3476 - accuracy: 0.8660\n",
            "Epoch 74 - loss: 0.3208 - accuracy: 0.8780\n",
            "Epoch 75 - loss: 0.3271 - accuracy: 0.8820\n",
            "Epoch 76 - loss: 0.3069 - accuracy: 0.8820\n",
            "Epoch 77 - loss: 0.3225 - accuracy: 0.8820\n",
            "Epoch 78 - loss: 0.3029 - accuracy: 0.8780\n",
            "Epoch 79 - loss: 0.3390 - accuracy: 0.8900\n",
            "Epoch 80 - loss: 0.2911 - accuracy: 0.8960\n",
            "Epoch 81 - loss: 0.2912 - accuracy: 0.8960\n",
            "Epoch 82 - loss: 0.2970 - accuracy: 0.8920\n",
            "Epoch 83 - loss: 0.3224 - accuracy: 0.8780\n",
            "Epoch 84 - loss: 0.3064 - accuracy: 0.8720\n",
            "Epoch 85 - loss: 0.3084 - accuracy: 0.8900\n",
            "Epoch 86 - loss: 0.2990 - accuracy: 0.8680\n",
            "Epoch 87 - loss: 0.2833 - accuracy: 0.8920\n",
            "Epoch 88 - loss: 0.2871 - accuracy: 0.8880\n",
            "Epoch 89 - loss: 0.2711 - accuracy: 0.8980\n",
            "Epoch 90 - loss: 0.2991 - accuracy: 0.8980\n",
            "Epoch 91 - loss: 0.3034 - accuracy: 0.8780\n",
            "Epoch 92 - loss: 0.2940 - accuracy: 0.9000\n",
            "Epoch 93 - loss: 0.3004 - accuracy: 0.8840\n",
            "Epoch 94 - loss: 0.2450 - accuracy: 0.9060\n",
            "Epoch 95 - loss: 0.2505 - accuracy: 0.9140\n",
            "Epoch 96 - loss: 0.2384 - accuracy: 0.9100\n",
            "Epoch 97 - loss: 0.2124 - accuracy: 0.9180\n",
            "Epoch 98 - loss: 0.2389 - accuracy: 0.9120\n",
            "Epoch 99 - loss: 0.2456 - accuracy: 0.9000\n",
            "Epoch 100 - loss: 0.2409 - accuracy: 0.9160\n",
            "Epoch 101 - loss: 0.2448 - accuracy: 0.9000\n",
            "Epoch 102 - loss: 0.2475 - accuracy: 0.9160\n",
            "Epoch 103 - loss: 0.2319 - accuracy: 0.9120\n",
            "Epoch 104 - loss: 0.2115 - accuracy: 0.9280\n",
            "Epoch 105 - loss: 0.2295 - accuracy: 0.9200\n",
            "Epoch 106 - loss: 0.2632 - accuracy: 0.9020\n",
            "Epoch 107 - loss: 0.2262 - accuracy: 0.9200\n",
            "Epoch 108 - loss: 0.2123 - accuracy: 0.9280\n",
            "Epoch 109 - loss: 0.2364 - accuracy: 0.9120\n",
            "Epoch 110 - loss: 0.2294 - accuracy: 0.9240\n",
            "Epoch 111 - loss: 0.2462 - accuracy: 0.9080\n",
            "Epoch 112 - loss: 0.2319 - accuracy: 0.9320\n",
            "Epoch 113 - loss: 0.2042 - accuracy: 0.9360\n",
            "Epoch 114 - loss: 0.2204 - accuracy: 0.9200\n",
            "Epoch 115 - loss: 0.1893 - accuracy: 0.9320\n",
            "Epoch 116 - loss: 0.1725 - accuracy: 0.9380\n",
            "Epoch 117 - loss: 0.1909 - accuracy: 0.9180\n",
            "Epoch 118 - loss: 0.1732 - accuracy: 0.9460\n",
            "Epoch 119 - loss: 0.1872 - accuracy: 0.9320\n",
            "Epoch 120 - loss: 0.1576 - accuracy: 0.9420\n",
            "Epoch 121 - loss: 0.1685 - accuracy: 0.9440\n",
            "Epoch 122 - loss: 0.1993 - accuracy: 0.9300\n",
            "Epoch 123 - loss: 0.1867 - accuracy: 0.9300\n",
            "Epoch 124 - loss: 0.1682 - accuracy: 0.9440\n",
            "Epoch 125 - loss: 0.1880 - accuracy: 0.9380\n",
            "Epoch 126 - loss: 0.1744 - accuracy: 0.9280\n",
            "Epoch 127 - loss: 0.2302 - accuracy: 0.9180\n",
            "Epoch 128 - loss: 0.2141 - accuracy: 0.9200\n",
            "Epoch 129 - loss: 0.1587 - accuracy: 0.9440\n",
            "Epoch 130 - loss: 0.1685 - accuracy: 0.9420\n",
            "Epoch 131 - loss: 0.1385 - accuracy: 0.9520\n",
            "Epoch 132 - loss: 0.1554 - accuracy: 0.9360\n",
            "Epoch 133 - loss: 0.1669 - accuracy: 0.9360\n",
            "Epoch 134 - loss: 0.1618 - accuracy: 0.9340\n",
            "Epoch 135 - loss: 0.2019 - accuracy: 0.9240\n",
            "Epoch 136 - loss: 0.1436 - accuracy: 0.9440\n",
            "Epoch 137 - loss: 0.1577 - accuracy: 0.9340\n",
            "Epoch 138 - loss: 0.1348 - accuracy: 0.9660\n",
            "Epoch 139 - loss: 0.1480 - accuracy: 0.9500\n",
            "Epoch 140 - loss: 0.1524 - accuracy: 0.9520\n",
            "Epoch 141 - loss: 0.1526 - accuracy: 0.9540\n",
            "Epoch 142 - loss: 0.1546 - accuracy: 0.9400\n",
            "Epoch 143 - loss: 0.1286 - accuracy: 0.9660\n",
            "Epoch 144 - loss: 0.1215 - accuracy: 0.9540\n",
            "Epoch 145 - loss: 0.1372 - accuracy: 0.9540\n",
            "Epoch 146 - loss: 0.1400 - accuracy: 0.9500\n",
            "Epoch 147 - loss: 0.1415 - accuracy: 0.9460\n",
            "Epoch 148 - loss: 0.1572 - accuracy: 0.9360\n",
            "Epoch 149 - loss: 0.1652 - accuracy: 0.9340\n",
            "Epoch 150 - loss: 0.1635 - accuracy: 0.9360\n",
            "Epoch 151 - loss: 0.1747 - accuracy: 0.9380\n",
            "Epoch 152 - loss: 0.1454 - accuracy: 0.9440\n",
            "Epoch 153 - loss: 0.1464 - accuracy: 0.9440\n",
            "Epoch 154 - loss: 0.1271 - accuracy: 0.9520\n",
            "Epoch 155 - loss: 0.1424 - accuracy: 0.9540\n",
            "Epoch 156 - loss: 0.1302 - accuracy: 0.9500\n",
            "Epoch 157 - loss: 0.1779 - accuracy: 0.9320\n",
            "Epoch 158 - loss: 0.1412 - accuracy: 0.9420\n",
            "Epoch 159 - loss: 0.1719 - accuracy: 0.9400\n",
            "Epoch 160 - loss: 0.1774 - accuracy: 0.9340\n",
            "Epoch 161 - loss: 0.1422 - accuracy: 0.9440\n",
            "Epoch 162 - loss: 0.1824 - accuracy: 0.9340\n",
            "Epoch 163 - loss: 0.1548 - accuracy: 0.9400\n",
            "Epoch 164 - loss: 0.1181 - accuracy: 0.9640\n",
            "Epoch 165 - loss: 0.1496 - accuracy: 0.9440\n",
            "Epoch 166 - loss: 0.1407 - accuracy: 0.9440\n",
            "Epoch 167 - loss: 0.1549 - accuracy: 0.9340\n",
            "Epoch 168 - loss: 0.1541 - accuracy: 0.9320\n",
            "Epoch 169 - loss: 0.1019 - accuracy: 0.9720\n",
            "Epoch 170 - loss: 0.1155 - accuracy: 0.9620\n",
            "Epoch 171 - loss: 0.1082 - accuracy: 0.9640\n",
            "Epoch 172 - loss: 0.1140 - accuracy: 0.9580\n",
            "Epoch 173 - loss: 0.1305 - accuracy: 0.9480\n",
            "Epoch 174 - loss: 0.1432 - accuracy: 0.9480\n",
            "Epoch 175 - loss: 0.1355 - accuracy: 0.9620\n",
            "Epoch 176 - loss: 0.1106 - accuracy: 0.9640\n",
            "Epoch 177 - loss: 0.1006 - accuracy: 0.9620\n",
            "Epoch 178 - loss: 0.0870 - accuracy: 0.9680\n",
            "Epoch 179 - loss: 0.1106 - accuracy: 0.9560\n",
            "Epoch 180 - loss: 0.1225 - accuracy: 0.9500\n",
            "Epoch 181 - loss: 0.1236 - accuracy: 0.9600\n",
            "Epoch 182 - loss: 0.1087 - accuracy: 0.9660\n",
            "Epoch 183 - loss: 0.1605 - accuracy: 0.9400\n",
            "Epoch 184 - loss: 0.1101 - accuracy: 0.9580\n",
            "Epoch 185 - loss: 0.1418 - accuracy: 0.9460\n",
            "Epoch 186 - loss: 0.1527 - accuracy: 0.9500\n",
            "Epoch 187 - loss: 0.0985 - accuracy: 0.9680\n",
            "Epoch 188 - loss: 0.1083 - accuracy: 0.9620\n",
            "Epoch 189 - loss: 0.0863 - accuracy: 0.9600\n",
            "Epoch 190 - loss: 0.1038 - accuracy: 0.9580\n",
            "Epoch 191 - loss: 0.0969 - accuracy: 0.9600\n",
            "Epoch 192 - loss: 0.0914 - accuracy: 0.9740\n",
            "Epoch 193 - loss: 0.0934 - accuracy: 0.9620\n",
            "Epoch 194 - loss: 0.0979 - accuracy: 0.9660\n",
            "Epoch 195 - loss: 0.0926 - accuracy: 0.9700\n",
            "Epoch 196 - loss: 0.0799 - accuracy: 0.9740\n",
            "Epoch 197 - loss: 0.0813 - accuracy: 0.9760\n",
            "Epoch 198 - loss: 0.1270 - accuracy: 0.9620\n",
            "Epoch 199 - loss: 0.1061 - accuracy: 0.9620\n",
            "Epoch 200 - loss: 0.0745 - accuracy: 0.9760\n",
            "Epoch 201 - loss: 0.1020 - accuracy: 0.9680\n",
            "Epoch 202 - loss: 0.0918 - accuracy: 0.9700\n",
            "Epoch 203 - loss: 0.0715 - accuracy: 0.9760\n",
            "Epoch 204 - loss: 0.0780 - accuracy: 0.9760\n",
            "Epoch 205 - loss: 0.0844 - accuracy: 0.9700\n",
            "Epoch 206 - loss: 0.0736 - accuracy: 0.9680\n",
            "Epoch 207 - loss: 0.0776 - accuracy: 0.9760\n",
            "Epoch 208 - loss: 0.0662 - accuracy: 0.9800\n",
            "Epoch 209 - loss: 0.0700 - accuracy: 0.9820\n",
            "Epoch 210 - loss: 0.1001 - accuracy: 0.9640\n",
            "Epoch 211 - loss: 0.0837 - accuracy: 0.9700\n",
            "Epoch 212 - loss: 0.0810 - accuracy: 0.9720\n",
            "Epoch 213 - loss: 0.0876 - accuracy: 0.9680\n",
            "Epoch 214 - loss: 0.0885 - accuracy: 0.9700\n",
            "Epoch 215 - loss: 0.1310 - accuracy: 0.9520\n",
            "Epoch 216 - loss: 0.0999 - accuracy: 0.9640\n",
            "Epoch 217 - loss: 0.1063 - accuracy: 0.9620\n",
            "Epoch 218 - loss: 0.0795 - accuracy: 0.9800\n",
            "Epoch 219 - loss: 0.0831 - accuracy: 0.9720\n",
            "Epoch 220 - loss: 0.1018 - accuracy: 0.9620\n",
            "Epoch 221 - loss: 0.0932 - accuracy: 0.9660\n",
            "Epoch 222 - loss: 0.0782 - accuracy: 0.9740\n",
            "Epoch 223 - loss: 0.0540 - accuracy: 0.9840\n",
            "Epoch 224 - loss: 0.0786 - accuracy: 0.9720\n",
            "Epoch 225 - loss: 0.0817 - accuracy: 0.9720\n",
            "Epoch 226 - loss: 0.0892 - accuracy: 0.9700\n",
            "Epoch 227 - loss: 0.0591 - accuracy: 0.9780\n",
            "Epoch 228 - loss: 0.0761 - accuracy: 0.9700\n",
            "Epoch 229 - loss: 0.0794 - accuracy: 0.9760\n",
            "Epoch 230 - loss: 0.0934 - accuracy: 0.9760\n",
            "Epoch 231 - loss: 0.0902 - accuracy: 0.9700\n",
            "Epoch 232 - loss: 0.0909 - accuracy: 0.9700\n",
            "Epoch 233 - loss: 0.0774 - accuracy: 0.9700\n",
            "Epoch 234 - loss: 0.0822 - accuracy: 0.9740\n",
            "Epoch 235 - loss: 0.0749 - accuracy: 0.9680\n",
            "Epoch 236 - loss: 0.0673 - accuracy: 0.9720\n",
            "Epoch 237 - loss: 0.1022 - accuracy: 0.9680\n",
            "Epoch 238 - loss: 0.0556 - accuracy: 0.9820\n",
            "Epoch 239 - loss: 0.0918 - accuracy: 0.9740\n",
            "Epoch 240 - loss: 0.0771 - accuracy: 0.9720\n",
            "Epoch 241 - loss: 0.0616 - accuracy: 0.9800\n",
            "Epoch 242 - loss: 0.0715 - accuracy: 0.9780\n",
            "Epoch 243 - loss: 0.0539 - accuracy: 0.9840\n",
            "Epoch 244 - loss: 0.0556 - accuracy: 0.9860\n",
            "Epoch 245 - loss: 0.0701 - accuracy: 0.9780\n",
            "Epoch 246 - loss: 0.0735 - accuracy: 0.9720\n",
            "Epoch 247 - loss: 0.0519 - accuracy: 0.9840\n",
            "Epoch 248 - loss: 0.0792 - accuracy: 0.9660\n",
            "Epoch 249 - loss: 0.0795 - accuracy: 0.9780\n",
            "Epoch 250 - loss: 0.0577 - accuracy: 0.9760\n",
            "Epoch 251 - loss: 0.0444 - accuracy: 0.9880\n",
            "Epoch 252 - loss: 0.0787 - accuracy: 0.9660\n",
            "Epoch 253 - loss: 0.0711 - accuracy: 0.9760\n",
            "Epoch 254 - loss: 0.0566 - accuracy: 0.9800\n",
            "Epoch 255 - loss: 0.0444 - accuracy: 0.9860\n",
            "Epoch 256 - loss: 0.0432 - accuracy: 0.9880\n",
            "Epoch 257 - loss: 0.0659 - accuracy: 0.9820\n",
            "Epoch 258 - loss: 0.0523 - accuracy: 0.9860\n",
            "Epoch 259 - loss: 0.0557 - accuracy: 0.9800\n",
            "Epoch 260 - loss: 0.0642 - accuracy: 0.9800\n",
            "Epoch 261 - loss: 0.0738 - accuracy: 0.9740\n",
            "Epoch 262 - loss: 0.0769 - accuracy: 0.9720\n",
            "Epoch 263 - loss: 0.0710 - accuracy: 0.9680\n",
            "Epoch 264 - loss: 0.0838 - accuracy: 0.9780\n",
            "Epoch 265 - loss: 0.0797 - accuracy: 0.9740\n",
            "Epoch 266 - loss: 0.0466 - accuracy: 0.9880\n",
            "Epoch 267 - loss: 0.0425 - accuracy: 0.9920\n",
            "Epoch 268 - loss: 0.0714 - accuracy: 0.9800\n",
            "Epoch 269 - loss: 0.0581 - accuracy: 0.9800\n",
            "Epoch 270 - loss: 0.0576 - accuracy: 0.9840\n",
            "Epoch 271 - loss: 0.0386 - accuracy: 0.9880\n",
            "Epoch 272 - loss: 0.0461 - accuracy: 0.9840\n",
            "Epoch 273 - loss: 0.0540 - accuracy: 0.9820\n",
            "Epoch 274 - loss: 0.0646 - accuracy: 0.9680\n",
            "Epoch 275 - loss: 0.0571 - accuracy: 0.9800\n",
            "Epoch 276 - loss: 0.0699 - accuracy: 0.9760\n",
            "Epoch 277 - loss: 0.0912 - accuracy: 0.9640\n",
            "Epoch 278 - loss: 0.0786 - accuracy: 0.9820\n",
            "Epoch 279 - loss: 0.0620 - accuracy: 0.9800\n",
            "Epoch 280 - loss: 0.0525 - accuracy: 0.9800\n",
            "Epoch 281 - loss: 0.0676 - accuracy: 0.9660\n",
            "Epoch 282 - loss: 0.0589 - accuracy: 0.9780\n",
            "Epoch 283 - loss: 0.0659 - accuracy: 0.9760\n",
            "Epoch 284 - loss: 0.0488 - accuracy: 0.9900\n",
            "Epoch 285 - loss: 0.0544 - accuracy: 0.9880\n",
            "Epoch 286 - loss: 0.0466 - accuracy: 0.9880\n",
            "Epoch 287 - loss: 0.0376 - accuracy: 0.9900\n",
            "Epoch 288 - loss: 0.0464 - accuracy: 0.9820\n",
            "Epoch 289 - loss: 0.0483 - accuracy: 0.9840\n",
            "Epoch 290 - loss: 0.0541 - accuracy: 0.9740\n",
            "Epoch 291 - loss: 0.0841 - accuracy: 0.9700\n",
            "Epoch 292 - loss: 0.0629 - accuracy: 0.9780\n",
            "Epoch 293 - loss: 0.0497 - accuracy: 0.9820\n",
            "Epoch 294 - loss: 0.0319 - accuracy: 0.9920\n",
            "Epoch 295 - loss: 0.0413 - accuracy: 0.9880\n",
            "Epoch 296 - loss: 0.0279 - accuracy: 0.9920\n",
            "Epoch 297 - loss: 0.0363 - accuracy: 0.9900\n",
            "Epoch 298 - loss: 0.0373 - accuracy: 0.9880\n",
            "Epoch 299 - loss: 0.0294 - accuracy: 0.9960\n",
            "Epoch 300 - loss: 0.0449 - accuracy: 0.9840\n",
            "Epoch 301 - loss: 0.0280 - accuracy: 0.9940\n",
            "Epoch 302 - loss: 0.0499 - accuracy: 0.9820\n",
            "Epoch 303 - loss: 0.0332 - accuracy: 0.9940\n",
            "Epoch 304 - loss: 0.0481 - accuracy: 0.9800\n",
            "Epoch 305 - loss: 0.0646 - accuracy: 0.9740\n",
            "Epoch 306 - loss: 0.0986 - accuracy: 0.9680\n",
            "Epoch 307 - loss: 0.0557 - accuracy: 0.9820\n",
            "Epoch 308 - loss: 0.0744 - accuracy: 0.9700\n",
            "Epoch 309 - loss: 0.0541 - accuracy: 0.9820\n",
            "Epoch 310 - loss: 0.0592 - accuracy: 0.9760\n",
            "Epoch 311 - loss: 0.0593 - accuracy: 0.9800\n",
            "Epoch 312 - loss: 0.0566 - accuracy: 0.9820\n",
            "Epoch 313 - loss: 0.0469 - accuracy: 0.9840\n",
            "Epoch 314 - loss: 0.0624 - accuracy: 0.9820\n",
            "Epoch 315 - loss: 0.0513 - accuracy: 0.9840\n",
            "Epoch 316 - loss: 0.0586 - accuracy: 0.9800\n",
            "Epoch 317 - loss: 0.0369 - accuracy: 0.9820\n",
            "Epoch 318 - loss: 0.0364 - accuracy: 0.9900\n",
            "Epoch 319 - loss: 0.0552 - accuracy: 0.9840\n",
            "Epoch 320 - loss: 0.0249 - accuracy: 0.9980\n",
            "Epoch 321 - loss: 0.0280 - accuracy: 0.9980\n",
            "Epoch 322 - loss: 0.0315 - accuracy: 0.9840\n",
            "Epoch 323 - loss: 0.0882 - accuracy: 0.9740\n",
            "Epoch 324 - loss: 0.0697 - accuracy: 0.9720\n",
            "Epoch 325 - loss: 0.0881 - accuracy: 0.9740\n",
            "Epoch 326 - loss: 0.0544 - accuracy: 0.9720\n",
            "Epoch 327 - loss: 0.0532 - accuracy: 0.9840\n",
            "Epoch 328 - loss: 0.0409 - accuracy: 0.9880\n",
            "Epoch 329 - loss: 0.0408 - accuracy: 0.9840\n",
            "Epoch 330 - loss: 0.0449 - accuracy: 0.9900\n",
            "Epoch 331 - loss: 0.0413 - accuracy: 0.9880\n",
            "Epoch 332 - loss: 0.0345 - accuracy: 0.9880\n",
            "Epoch 333 - loss: 0.0802 - accuracy: 0.9720\n",
            "Epoch 334 - loss: 0.1031 - accuracy: 0.9660\n",
            "Epoch 335 - loss: 0.0818 - accuracy: 0.9800\n",
            "Epoch 336 - loss: 0.0654 - accuracy: 0.9740\n",
            "Epoch 337 - loss: 0.0453 - accuracy: 0.9900\n",
            "Epoch 338 - loss: 0.0524 - accuracy: 0.9760\n",
            "Epoch 339 - loss: 0.0505 - accuracy: 0.9860\n",
            "Epoch 340 - loss: 0.0288 - accuracy: 0.9940\n",
            "Epoch 341 - loss: 0.0353 - accuracy: 0.9900\n",
            "Epoch 342 - loss: 0.0378 - accuracy: 0.9860\n",
            "Epoch 343 - loss: 0.0254 - accuracy: 0.9940\n",
            "Epoch 344 - loss: 0.0438 - accuracy: 0.9900\n",
            "Epoch 345 - loss: 0.0282 - accuracy: 0.9880\n",
            "Epoch 346 - loss: 0.0400 - accuracy: 0.9860\n",
            "Epoch 347 - loss: 0.0313 - accuracy: 0.9920\n",
            "Epoch 348 - loss: 0.0401 - accuracy: 0.9900\n",
            "Epoch 349 - loss: 0.0421 - accuracy: 0.9840\n",
            "Epoch 350 - loss: 0.0363 - accuracy: 0.9840\n",
            "Epoch 351 - loss: 0.0286 - accuracy: 0.9860\n",
            "Epoch 352 - loss: 0.0544 - accuracy: 0.9780\n",
            "Epoch 353 - loss: 0.0462 - accuracy: 0.9780\n",
            "Epoch 354 - loss: 0.0470 - accuracy: 0.9780\n",
            "Epoch 355 - loss: 0.0519 - accuracy: 0.9840\n",
            "Epoch 356 - loss: 0.0344 - accuracy: 0.9900\n",
            "Epoch 357 - loss: 0.0435 - accuracy: 0.9820\n",
            "Epoch 358 - loss: 0.0301 - accuracy: 0.9900\n",
            "Epoch 359 - loss: 0.0470 - accuracy: 0.9860\n",
            "Epoch 360 - loss: 0.0189 - accuracy: 0.9960\n",
            "Epoch 361 - loss: 0.0365 - accuracy: 0.9840\n",
            "Epoch 362 - loss: 0.0577 - accuracy: 0.9780\n",
            "Epoch 363 - loss: 0.0278 - accuracy: 0.9920\n",
            "Epoch 364 - loss: 0.0325 - accuracy: 0.9880\n",
            "Epoch 365 - loss: 0.0321 - accuracy: 0.9920\n",
            "Epoch 366 - loss: 0.0392 - accuracy: 0.9840\n",
            "Epoch 367 - loss: 0.0259 - accuracy: 0.9920\n",
            "Epoch 368 - loss: 0.0186 - accuracy: 0.9980\n",
            "Epoch 369 - loss: 0.0252 - accuracy: 0.9940\n",
            "Epoch 370 - loss: 0.0380 - accuracy: 0.9880\n",
            "Epoch 371 - loss: 0.0329 - accuracy: 0.9880\n",
            "Epoch 372 - loss: 0.0492 - accuracy: 0.9840\n",
            "Epoch 373 - loss: 0.0195 - accuracy: 0.9980\n",
            "Epoch 374 - loss: 0.0226 - accuracy: 0.9940\n",
            "Epoch 375 - loss: 0.0416 - accuracy: 0.9880\n",
            "Epoch 376 - loss: 0.0271 - accuracy: 0.9900\n",
            "Epoch 377 - loss: 0.0237 - accuracy: 0.9920\n",
            "Epoch 378 - loss: 0.0205 - accuracy: 0.9940\n",
            "Epoch 379 - loss: 0.0215 - accuracy: 0.9940\n",
            "Epoch 380 - loss: 0.0162 - accuracy: 0.9960\n",
            "Epoch 381 - loss: 0.0448 - accuracy: 0.9840\n",
            "Epoch 382 - loss: 0.0216 - accuracy: 0.9920\n",
            "Epoch 383 - loss: 0.0372 - accuracy: 0.9880\n",
            "Epoch 384 - loss: 0.0146 - accuracy: 0.9960\n",
            "Epoch 385 - loss: 0.0250 - accuracy: 0.9880\n",
            "Epoch 386 - loss: 0.0272 - accuracy: 0.9900\n",
            "Epoch 387 - loss: 0.0327 - accuracy: 0.9900\n",
            "Epoch 388 - loss: 0.0282 - accuracy: 0.9920\n",
            "Epoch 389 - loss: 0.0348 - accuracy: 0.9840\n",
            "Epoch 390 - loss: 0.0324 - accuracy: 0.9920\n",
            "Epoch 391 - loss: 0.0152 - accuracy: 0.9960\n",
            "Epoch 392 - loss: 0.0235 - accuracy: 0.9920\n",
            "Epoch 393 - loss: 0.0219 - accuracy: 0.9920\n",
            "Epoch 394 - loss: 0.0538 - accuracy: 0.9840\n",
            "Epoch 395 - loss: 0.0389 - accuracy: 0.9880\n",
            "Epoch 396 - loss: 0.0154 - accuracy: 0.9940\n",
            "Epoch 397 - loss: 0.0232 - accuracy: 0.9940\n",
            "Epoch 398 - loss: 0.0175 - accuracy: 0.9940\n",
            "Epoch 399 - loss: 0.0145 - accuracy: 0.9960\n",
            "Epoch 400 - loss: 0.0624 - accuracy: 0.9780\n",
            "Epoch 401 - loss: 0.0369 - accuracy: 0.9820\n",
            "Epoch 402 - loss: 0.0547 - accuracy: 0.9800\n",
            "Epoch 403 - loss: 0.0339 - accuracy: 0.9840\n",
            "Epoch 404 - loss: 0.0348 - accuracy: 0.9900\n",
            "Epoch 405 - loss: 0.0488 - accuracy: 0.9820\n",
            "Epoch 406 - loss: 0.0364 - accuracy: 0.9800\n",
            "Epoch 407 - loss: 0.0267 - accuracy: 0.9900\n",
            "Epoch 408 - loss: 0.0288 - accuracy: 0.9920\n",
            "Epoch 409 - loss: 0.0220 - accuracy: 0.9960\n",
            "Epoch 410 - loss: 0.0383 - accuracy: 0.9860\n",
            "Epoch 411 - loss: 0.0392 - accuracy: 0.9880\n",
            "Epoch 412 - loss: 0.0375 - accuracy: 0.9880\n",
            "Epoch 413 - loss: 0.0468 - accuracy: 0.9820\n",
            "Epoch 414 - loss: 0.0332 - accuracy: 0.9880\n",
            "Epoch 415 - loss: 0.0283 - accuracy: 0.9860\n",
            "Epoch 416 - loss: 0.0339 - accuracy: 0.9900\n",
            "Epoch 417 - loss: 0.0352 - accuracy: 0.9940\n",
            "Epoch 418 - loss: 0.0420 - accuracy: 0.9900\n",
            "Epoch 419 - loss: 0.0271 - accuracy: 0.9920\n",
            "Epoch 420 - loss: 0.0428 - accuracy: 0.9860\n",
            "Epoch 421 - loss: 0.0305 - accuracy: 0.9900\n",
            "Epoch 422 - loss: 0.0250 - accuracy: 0.9920\n",
            "Epoch 423 - loss: 0.0445 - accuracy: 0.9860\n",
            "Epoch 424 - loss: 0.0131 - accuracy: 1.0000\n",
            "Epoch 425 - loss: 0.0373 - accuracy: 0.9840\n",
            "Epoch 426 - loss: 0.0402 - accuracy: 0.9840\n",
            "Epoch 427 - loss: 0.0526 - accuracy: 0.9800\n",
            "Epoch 428 - loss: 0.0528 - accuracy: 0.9800\n",
            "Epoch 429 - loss: 0.0659 - accuracy: 0.9740\n",
            "Epoch 430 - loss: 0.0327 - accuracy: 0.9900\n",
            "Epoch 431 - loss: 0.0462 - accuracy: 0.9800\n",
            "Epoch 432 - loss: 0.0558 - accuracy: 0.9780\n",
            "Epoch 433 - loss: 0.0383 - accuracy: 0.9900\n",
            "Epoch 434 - loss: 0.0271 - accuracy: 0.9880\n",
            "Epoch 435 - loss: 0.0560 - accuracy: 0.9760\n",
            "Epoch 436 - loss: 0.0601 - accuracy: 0.9820\n",
            "Epoch 437 - loss: 0.0420 - accuracy: 0.9900\n",
            "Epoch 438 - loss: 0.0418 - accuracy: 0.9880\n",
            "Epoch 439 - loss: 0.0497 - accuracy: 0.9800\n",
            "Epoch 440 - loss: 0.0458 - accuracy: 0.9840\n",
            "Epoch 441 - loss: 0.0200 - accuracy: 0.9940\n",
            "Epoch 442 - loss: 0.0168 - accuracy: 0.9960\n",
            "Epoch 443 - loss: 0.0301 - accuracy: 0.9880\n",
            "Epoch 444 - loss: 0.0134 - accuracy: 0.9960\n",
            "Epoch 445 - loss: 0.0356 - accuracy: 0.9900\n",
            "Epoch 446 - loss: 0.0211 - accuracy: 0.9940\n",
            "Epoch 447 - loss: 0.0187 - accuracy: 0.9940\n",
            "Epoch 448 - loss: 0.0095 - accuracy: 1.0000\n",
            "Epoch 449 - loss: 0.0252 - accuracy: 0.9940\n",
            "Epoch 450 - loss: 0.0205 - accuracy: 0.9920\n",
            "Epoch 451 - loss: 0.0084 - accuracy: 0.9980\n",
            "Epoch 452 - loss: 0.0135 - accuracy: 0.9940\n",
            "Epoch 453 - loss: 0.0243 - accuracy: 0.9960\n",
            "Epoch 454 - loss: 0.0081 - accuracy: 1.0000\n",
            "Epoch 455 - loss: 0.0675 - accuracy: 0.9700\n",
            "Epoch 456 - loss: 0.0495 - accuracy: 0.9780\n",
            "Epoch 457 - loss: 0.0422 - accuracy: 0.9860\n",
            "Epoch 458 - loss: 0.0604 - accuracy: 0.9820\n",
            "Epoch 459 - loss: 0.0516 - accuracy: 0.9800\n",
            "Epoch 460 - loss: 0.0649 - accuracy: 0.9760\n",
            "Epoch 461 - loss: 0.0341 - accuracy: 0.9920\n",
            "Epoch 462 - loss: 0.0508 - accuracy: 0.9840\n",
            "Epoch 463 - loss: 0.0366 - accuracy: 0.9880\n",
            "Epoch 464 - loss: 0.0347 - accuracy: 0.9920\n",
            "Epoch 465 - loss: 0.0433 - accuracy: 0.9900\n",
            "Epoch 466 - loss: 0.0198 - accuracy: 0.9920\n",
            "Epoch 467 - loss: 0.0548 - accuracy: 0.9880\n",
            "Epoch 468 - loss: 0.0190 - accuracy: 0.9940\n",
            "Epoch 469 - loss: 0.0166 - accuracy: 0.9980\n",
            "Epoch 470 - loss: 0.0189 - accuracy: 0.9960\n",
            "Epoch 471 - loss: 0.0171 - accuracy: 0.9940\n",
            "Epoch 472 - loss: 0.0250 - accuracy: 0.9920\n",
            "Epoch 473 - loss: 0.0141 - accuracy: 0.9960\n",
            "Epoch 474 - loss: 0.0215 - accuracy: 0.9900\n",
            "Epoch 475 - loss: 0.0327 - accuracy: 0.9880\n",
            "Epoch 476 - loss: 0.0412 - accuracy: 0.9880\n",
            "Epoch 477 - loss: 0.0529 - accuracy: 0.9820\n",
            "Epoch 478 - loss: 0.0171 - accuracy: 0.9940\n",
            "Epoch 479 - loss: 0.0372 - accuracy: 0.9860\n",
            "Epoch 480 - loss: 0.0310 - accuracy: 0.9900\n",
            "Epoch 481 - loss: 0.0155 - accuracy: 0.9920\n",
            "Epoch 482 - loss: 0.0231 - accuracy: 0.9940\n",
            "Epoch 483 - loss: 0.0207 - accuracy: 0.9920\n",
            "Epoch 484 - loss: 0.0105 - accuracy: 0.9980\n",
            "Epoch 485 - loss: 0.0133 - accuracy: 0.9980\n",
            "Epoch 486 - loss: 0.0236 - accuracy: 0.9940\n",
            "Epoch 487 - loss: 0.0150 - accuracy: 0.9960\n",
            "Epoch 488 - loss: 0.0205 - accuracy: 0.9920\n",
            "Epoch 489 - loss: 0.0179 - accuracy: 0.9940\n",
            "Epoch 490 - loss: 0.0244 - accuracy: 0.9900\n",
            "Epoch 491 - loss: 0.0073 - accuracy: 1.0000\n",
            "Epoch 492 - loss: 0.0106 - accuracy: 0.9980\n",
            "Epoch 493 - loss: 0.0179 - accuracy: 0.9920\n",
            "Epoch 494 - loss: 0.0164 - accuracy: 0.9920\n",
            "Epoch 495 - loss: 0.0366 - accuracy: 0.9920\n",
            "Epoch 496 - loss: 0.0233 - accuracy: 0.9960\n",
            "Epoch 497 - loss: 0.0309 - accuracy: 0.9900\n",
            "Epoch 498 - loss: 0.0279 - accuracy: 0.9920\n",
            "Epoch 499 - loss: 0.0237 - accuracy: 0.9940\n",
            "Epoch 500 - loss: 0.0427 - accuracy: 0.9880\n",
            "Epoch 501 - loss: 0.0364 - accuracy: 0.9860\n",
            "Epoch 502 - loss: 0.0588 - accuracy: 0.9880\n",
            "Epoch 503 - loss: 0.0621 - accuracy: 0.9860\n",
            "Epoch 504 - loss: 0.1089 - accuracy: 0.9800\n",
            "Epoch 505 - loss: 0.0703 - accuracy: 0.9820\n",
            "Epoch 506 - loss: 0.0448 - accuracy: 0.9840\n",
            "Epoch 507 - loss: 0.0442 - accuracy: 0.9840\n",
            "Epoch 508 - loss: 0.0387 - accuracy: 0.9860\n",
            "Epoch 509 - loss: 0.0243 - accuracy: 0.9900\n",
            "Epoch 510 - loss: 0.0467 - accuracy: 0.9820\n",
            "Epoch 511 - loss: 0.0516 - accuracy: 0.9800\n",
            "Epoch 512 - loss: 0.0157 - accuracy: 0.9940\n",
            "Epoch 513 - loss: 0.0385 - accuracy: 0.9900\n",
            "Epoch 514 - loss: 0.0375 - accuracy: 0.9880\n",
            "Epoch 515 - loss: 0.0264 - accuracy: 0.9880\n",
            "Epoch 516 - loss: 0.0145 - accuracy: 0.9980\n",
            "Epoch 517 - loss: 0.0367 - accuracy: 0.9900\n",
            "Epoch 518 - loss: 0.0307 - accuracy: 0.9920\n",
            "Epoch 519 - loss: 0.0268 - accuracy: 0.9900\n",
            "Epoch 520 - loss: 0.0269 - accuracy: 0.9920\n",
            "Epoch 521 - loss: 0.0405 - accuracy: 0.9840\n",
            "Epoch 522 - loss: 0.0285 - accuracy: 0.9880\n",
            "Epoch 523 - loss: 0.0472 - accuracy: 0.9840\n",
            "Epoch 524 - loss: 0.0311 - accuracy: 0.9920\n",
            "Epoch 525 - loss: 0.0228 - accuracy: 0.9940\n",
            "Epoch 526 - loss: 0.0189 - accuracy: 0.9960\n",
            "Epoch 527 - loss: 0.0401 - accuracy: 0.9920\n",
            "Epoch 528 - loss: 0.0130 - accuracy: 0.9960\n",
            "Epoch 529 - loss: 0.0295 - accuracy: 0.9920\n",
            "Epoch 530 - loss: 0.0276 - accuracy: 0.9920\n",
            "Epoch 531 - loss: 0.0251 - accuracy: 0.9920\n",
            "Epoch 532 - loss: 0.0371 - accuracy: 0.9900\n",
            "Epoch 533 - loss: 0.0327 - accuracy: 0.9860\n",
            "Epoch 534 - loss: 0.0149 - accuracy: 0.9940\n",
            "Epoch 535 - loss: 0.0304 - accuracy: 0.9900\n",
            "Epoch 536 - loss: 0.0221 - accuracy: 0.9940\n",
            "Epoch 537 - loss: 0.0291 - accuracy: 0.9920\n",
            "Epoch 538 - loss: 0.0502 - accuracy: 0.9940\n",
            "Epoch 539 - loss: 0.0253 - accuracy: 0.9880\n",
            "Epoch 540 - loss: 0.0202 - accuracy: 0.9940\n",
            "Epoch 541 - loss: 0.0373 - accuracy: 0.9880\n",
            "Epoch 542 - loss: 0.0179 - accuracy: 0.9960\n",
            "Epoch 543 - loss: 0.0176 - accuracy: 0.9940\n",
            "Epoch 544 - loss: 0.0295 - accuracy: 0.9880\n",
            "Epoch 545 - loss: 0.0140 - accuracy: 0.9960\n",
            "Epoch 546 - loss: 0.0132 - accuracy: 0.9980\n",
            "Epoch 547 - loss: 0.0062 - accuracy: 1.0000\n",
            "Epoch 548 - loss: 0.0235 - accuracy: 0.9880\n",
            "Epoch 549 - loss: 0.0182 - accuracy: 0.9920\n",
            "Epoch 550 - loss: 0.0224 - accuracy: 0.9900\n",
            "Epoch 551 - loss: 0.0182 - accuracy: 0.9940\n",
            "Epoch 552 - loss: 0.0272 - accuracy: 0.9900\n",
            "Epoch 553 - loss: 0.0112 - accuracy: 0.9960\n",
            "Epoch 554 - loss: 0.0158 - accuracy: 0.9940\n",
            "Epoch 555 - loss: 0.0129 - accuracy: 0.9960\n",
            "Epoch 556 - loss: 0.0100 - accuracy: 0.9960\n",
            "Epoch 557 - loss: 0.0117 - accuracy: 0.9980\n",
            "Epoch 558 - loss: 0.0111 - accuracy: 0.9980\n",
            "Epoch 559 - loss: 0.0128 - accuracy: 0.9980\n",
            "Epoch 560 - loss: 0.0199 - accuracy: 0.9900\n",
            "Epoch 561 - loss: 0.0249 - accuracy: 0.9920\n",
            "Epoch 562 - loss: 0.0344 - accuracy: 0.9880\n",
            "Epoch 563 - loss: 0.0440 - accuracy: 0.9820\n",
            "Epoch 564 - loss: 0.0149 - accuracy: 0.9960\n",
            "Epoch 565 - loss: 0.0268 - accuracy: 0.9920\n",
            "Epoch 566 - loss: 0.0251 - accuracy: 0.9920\n",
            "Epoch 567 - loss: 0.0282 - accuracy: 0.9860\n",
            "Epoch 568 - loss: 0.0391 - accuracy: 0.9860\n",
            "Epoch 569 - loss: 0.0165 - accuracy: 0.9960\n",
            "Epoch 570 - loss: 0.0277 - accuracy: 0.9940\n",
            "Epoch 571 - loss: 0.0230 - accuracy: 0.9920\n",
            "Epoch 572 - loss: 0.0174 - accuracy: 0.9920\n",
            "Epoch 573 - loss: 0.0097 - accuracy: 0.9980\n",
            "Epoch 574 - loss: 0.0103 - accuracy: 0.9960\n",
            "Epoch 575 - loss: 0.0121 - accuracy: 0.9960\n",
            "Epoch 576 - loss: 0.0054 - accuracy: 1.0000\n",
            "Epoch 577 - loss: 0.0084 - accuracy: 0.9980\n",
            "Epoch 578 - loss: 0.0099 - accuracy: 0.9940\n",
            "Epoch 579 - loss: 0.0084 - accuracy: 0.9980\n",
            "Epoch 580 - loss: 0.0189 - accuracy: 0.9980\n",
            "Epoch 581 - loss: 0.0168 - accuracy: 0.9960\n",
            "Epoch 582 - loss: 0.0084 - accuracy: 0.9960\n",
            "Epoch 583 - loss: 0.0232 - accuracy: 0.9860\n",
            "Epoch 584 - loss: 0.0275 - accuracy: 0.9900\n",
            "Epoch 585 - loss: 0.0164 - accuracy: 0.9960\n",
            "Epoch 586 - loss: 0.0459 - accuracy: 0.9820\n",
            "Epoch 587 - loss: 0.0212 - accuracy: 0.9940\n",
            "Epoch 588 - loss: 0.0177 - accuracy: 0.9940\n",
            "Epoch 589 - loss: 0.0276 - accuracy: 0.9920\n",
            "Epoch 590 - loss: 0.0136 - accuracy: 0.9960\n",
            "Epoch 591 - loss: 0.0076 - accuracy: 0.9980\n",
            "Epoch 592 - loss: 0.0053 - accuracy: 0.9980\n",
            "Epoch 593 - loss: 0.0181 - accuracy: 0.9960\n",
            "Epoch 594 - loss: 0.0087 - accuracy: 0.9980\n",
            "Epoch 595 - loss: 0.0120 - accuracy: 0.9960\n",
            "Epoch 596 - loss: 0.0099 - accuracy: 0.9960\n",
            "Epoch 597 - loss: 0.0183 - accuracy: 0.9940\n",
            "Epoch 598 - loss: 0.0177 - accuracy: 0.9900\n",
            "Epoch 599 - loss: 0.0195 - accuracy: 0.9960\n",
            "Epoch 600 - loss: 0.0139 - accuracy: 0.9940\n",
            "Epoch 601 - loss: 0.0223 - accuracy: 0.9940\n",
            "Epoch 602 - loss: 0.0295 - accuracy: 0.9880\n",
            "Epoch 603 - loss: 0.0189 - accuracy: 0.9880\n",
            "Epoch 604 - loss: 0.0256 - accuracy: 0.9920\n",
            "Epoch 605 - loss: 0.0436 - accuracy: 0.9860\n",
            "Epoch 606 - loss: 0.0156 - accuracy: 0.9940\n",
            "Epoch 607 - loss: 0.0311 - accuracy: 0.9880\n",
            "Epoch 608 - loss: 0.0408 - accuracy: 0.9840\n",
            "Epoch 609 - loss: 0.0204 - accuracy: 0.9960\n",
            "Epoch 610 - loss: 0.0367 - accuracy: 0.9900\n",
            "Epoch 611 - loss: 0.0178 - accuracy: 0.9960\n",
            "Epoch 612 - loss: 0.0258 - accuracy: 0.9940\n",
            "Epoch 613 - loss: 0.0347 - accuracy: 0.9860\n",
            "Epoch 614 - loss: 0.0164 - accuracy: 0.9940\n",
            "Epoch 615 - loss: 0.0278 - accuracy: 0.9900\n",
            "Epoch 616 - loss: 0.0255 - accuracy: 0.9900\n",
            "Epoch 617 - loss: 0.0179 - accuracy: 0.9940\n",
            "Epoch 618 - loss: 0.0153 - accuracy: 0.9940\n",
            "Epoch 619 - loss: 0.0073 - accuracy: 0.9980\n",
            "Epoch 620 - loss: 0.0386 - accuracy: 0.9880\n",
            "Epoch 621 - loss: 0.0189 - accuracy: 0.9940\n",
            "Epoch 622 - loss: 0.0236 - accuracy: 0.9960\n",
            "Epoch 623 - loss: 0.0176 - accuracy: 0.9900\n",
            "Epoch 624 - loss: 0.0295 - accuracy: 0.9880\n",
            "Epoch 625 - loss: 0.0226 - accuracy: 0.9920\n",
            "Epoch 626 - loss: 0.0136 - accuracy: 0.9940\n",
            "Epoch 627 - loss: 0.0090 - accuracy: 0.9980\n",
            "Epoch 628 - loss: 0.0171 - accuracy: 0.9940\n",
            "Epoch 629 - loss: 0.0271 - accuracy: 0.9900\n",
            "Epoch 630 - loss: 0.0294 - accuracy: 0.9920\n",
            "Epoch 631 - loss: 0.0737 - accuracy: 0.9780\n",
            "Epoch 632 - loss: 0.0610 - accuracy: 0.9860\n",
            "Epoch 633 - loss: 0.0377 - accuracy: 0.9880\n",
            "Epoch 634 - loss: 0.0310 - accuracy: 0.9900\n",
            "Epoch 635 - loss: 0.0296 - accuracy: 0.9940\n",
            "Epoch 636 - loss: 0.0278 - accuracy: 0.9900\n",
            "Epoch 637 - loss: 0.0382 - accuracy: 0.9900\n",
            "Epoch 638 - loss: 0.0078 - accuracy: 1.0000\n",
            "Epoch 639 - loss: 0.0127 - accuracy: 0.9940\n",
            "Epoch 640 - loss: 0.0200 - accuracy: 0.9920\n",
            "Epoch 641 - loss: 0.0114 - accuracy: 0.9980\n",
            "Epoch 642 - loss: 0.0172 - accuracy: 0.9940\n",
            "Epoch 643 - loss: 0.0202 - accuracy: 0.9920\n",
            "Epoch 644 - loss: 0.0187 - accuracy: 0.9920\n",
            "Epoch 645 - loss: 0.0153 - accuracy: 0.9960\n",
            "Epoch 646 - loss: 0.0162 - accuracy: 0.9940\n",
            "Epoch 647 - loss: 0.0354 - accuracy: 0.9860\n",
            "Epoch 648 - loss: 0.0203 - accuracy: 0.9900\n",
            "Epoch 649 - loss: 0.0300 - accuracy: 0.9860\n",
            "Epoch 650 - loss: 0.0270 - accuracy: 0.9920\n",
            "Epoch 651 - loss: 0.0419 - accuracy: 0.9800\n",
            "Epoch 652 - loss: 0.0335 - accuracy: 0.9900\n",
            "Epoch 653 - loss: 0.0165 - accuracy: 0.9940\n",
            "Epoch 654 - loss: 0.0255 - accuracy: 0.9900\n",
            "Epoch 655 - loss: 0.0082 - accuracy: 0.9960\n",
            "Epoch 656 - loss: 0.0099 - accuracy: 0.9960\n",
            "Epoch 657 - loss: 0.0095 - accuracy: 0.9980\n",
            "Epoch 658 - loss: 0.0091 - accuracy: 0.9980\n",
            "Epoch 659 - loss: 0.0262 - accuracy: 0.9880\n",
            "Epoch 660 - loss: 0.0129 - accuracy: 0.9940\n",
            "Epoch 661 - loss: 0.0130 - accuracy: 0.9960\n",
            "Epoch 662 - loss: 0.0219 - accuracy: 0.9940\n",
            "Epoch 663 - loss: 0.0172 - accuracy: 0.9940\n",
            "Epoch 664 - loss: 0.0105 - accuracy: 0.9960\n",
            "Epoch 665 - loss: 0.0250 - accuracy: 0.9900\n",
            "Epoch 666 - loss: 0.0054 - accuracy: 1.0000\n",
            "Epoch 667 - loss: 0.0124 - accuracy: 0.9960\n",
            "Epoch 668 - loss: 0.0038 - accuracy: 1.0000\n",
            "Epoch 669 - loss: 0.0099 - accuracy: 0.9980\n",
            "Epoch 670 - loss: 0.0147 - accuracy: 0.9960\n",
            "Epoch 671 - loss: 0.0097 - accuracy: 0.9940\n",
            "Epoch 672 - loss: 0.0061 - accuracy: 0.9980\n",
            "Epoch 673 - loss: 0.0082 - accuracy: 0.9980\n",
            "Epoch 674 - loss: 0.0048 - accuracy: 0.9980\n",
            "Epoch 675 - loss: 0.0022 - accuracy: 1.0000\n",
            "Epoch 676 - loss: 0.0025 - accuracy: 1.0000\n",
            "Epoch 677 - loss: 0.0159 - accuracy: 0.9940\n",
            "Epoch 678 - loss: 0.0819 - accuracy: 0.9900\n",
            "Epoch 679 - loss: 0.0478 - accuracy: 0.9860\n",
            "Epoch 680 - loss: 0.0383 - accuracy: 0.9880\n",
            "Epoch 681 - loss: 0.0295 - accuracy: 0.9920\n",
            "Epoch 682 - loss: 0.0242 - accuracy: 0.9880\n",
            "Epoch 683 - loss: 0.0269 - accuracy: 0.9860\n",
            "Epoch 684 - loss: 0.0444 - accuracy: 0.9840\n",
            "Epoch 685 - loss: 0.0369 - accuracy: 0.9860\n",
            "Epoch 686 - loss: 0.0361 - accuracy: 0.9900\n",
            "Epoch 687 - loss: 0.0256 - accuracy: 0.9860\n",
            "Epoch 688 - loss: 0.0218 - accuracy: 0.9880\n",
            "Epoch 689 - loss: 0.0349 - accuracy: 0.9860\n",
            "Epoch 690 - loss: 0.0285 - accuracy: 0.9920\n",
            "Epoch 691 - loss: 0.0272 - accuracy: 0.9920\n",
            "Epoch 692 - loss: 0.0219 - accuracy: 0.9960\n",
            "Epoch 693 - loss: 0.0159 - accuracy: 0.9940\n",
            "Epoch 694 - loss: 0.0172 - accuracy: 0.9960\n",
            "Epoch 695 - loss: 0.0130 - accuracy: 0.9940\n",
            "Epoch 696 - loss: 0.0315 - accuracy: 0.9900\n",
            "Epoch 697 - loss: 0.0359 - accuracy: 0.9840\n",
            "Epoch 698 - loss: 0.0342 - accuracy: 0.9840\n",
            "Epoch 699 - loss: 0.0226 - accuracy: 0.9920\n",
            "Epoch 700 - loss: 0.0085 - accuracy: 0.9980\n",
            "Epoch 701 - loss: 0.0071 - accuracy: 0.9980\n",
            "Epoch 702 - loss: 0.0249 - accuracy: 0.9940\n",
            "Epoch 703 - loss: 0.0080 - accuracy: 0.9960\n",
            "Epoch 704 - loss: 0.0082 - accuracy: 0.9980\n",
            "Epoch 705 - loss: 0.0161 - accuracy: 0.9920\n",
            "Epoch 706 - loss: 0.0067 - accuracy: 0.9980\n",
            "Epoch 707 - loss: 0.0060 - accuracy: 1.0000\n",
            "Epoch 708 - loss: 0.0025 - accuracy: 1.0000\n",
            "Epoch 709 - loss: 0.0052 - accuracy: 0.9980\n",
            "Epoch 710 - loss: 0.0155 - accuracy: 0.9960\n",
            "Epoch 711 - loss: 0.0060 - accuracy: 0.9960\n",
            "Epoch 712 - loss: 0.0060 - accuracy: 0.9980\n",
            "Epoch 713 - loss: 0.0034 - accuracy: 0.9980\n",
            "Epoch 714 - loss: 0.0125 - accuracy: 0.9960\n",
            "Epoch 715 - loss: 0.0147 - accuracy: 0.9940\n",
            "Epoch 716 - loss: 0.0088 - accuracy: 0.9960\n",
            "Epoch 717 - loss: 0.0191 - accuracy: 0.9940\n",
            "Epoch 718 - loss: 0.0047 - accuracy: 1.0000\n",
            "Epoch 719 - loss: 0.0281 - accuracy: 0.9920\n",
            "Epoch 720 - loss: 0.0165 - accuracy: 0.9920\n",
            "Epoch 721 - loss: 0.0089 - accuracy: 0.9980\n",
            "Epoch 722 - loss: 0.0305 - accuracy: 0.9900\n",
            "Epoch 723 - loss: 0.0109 - accuracy: 0.9980\n",
            "Epoch 724 - loss: 0.0120 - accuracy: 0.9960\n",
            "Epoch 725 - loss: 0.0083 - accuracy: 0.9960\n",
            "Epoch 726 - loss: 0.0203 - accuracy: 0.9880\n",
            "Epoch 727 - loss: 0.0109 - accuracy: 0.9940\n",
            "Epoch 728 - loss: 0.0102 - accuracy: 0.9980\n",
            "Epoch 729 - loss: 0.0216 - accuracy: 0.9920\n",
            "Epoch 730 - loss: 0.0256 - accuracy: 0.9920\n",
            "Epoch 731 - loss: 0.0190 - accuracy: 0.9920\n",
            "Epoch 732 - loss: 0.0131 - accuracy: 0.9960\n",
            "Epoch 733 - loss: 0.0157 - accuracy: 0.9960\n",
            "Epoch 734 - loss: 0.0244 - accuracy: 0.9980\n",
            "Epoch 735 - loss: 0.0094 - accuracy: 0.9960\n",
            "Epoch 736 - loss: 0.0103 - accuracy: 0.9980\n",
            "Epoch 737 - loss: 0.0116 - accuracy: 0.9960\n",
            "Epoch 738 - loss: 0.0246 - accuracy: 0.9940\n",
            "Epoch 739 - loss: 0.0143 - accuracy: 0.9980\n",
            "Epoch 740 - loss: 0.0118 - accuracy: 0.9940\n",
            "Epoch 741 - loss: 0.0299 - accuracy: 0.9900\n",
            "Epoch 742 - loss: 0.0250 - accuracy: 0.9920\n",
            "Epoch 743 - loss: 0.0160 - accuracy: 0.9940\n",
            "Epoch 744 - loss: 0.0254 - accuracy: 0.9900\n",
            "Epoch 745 - loss: 0.0111 - accuracy: 0.9980\n",
            "Epoch 746 - loss: 0.0161 - accuracy: 0.9920\n",
            "Epoch 747 - loss: 0.0208 - accuracy: 0.9940\n",
            "Epoch 748 - loss: 0.0171 - accuracy: 0.9920\n",
            "Epoch 749 - loss: 0.0134 - accuracy: 0.9960\n",
            "Epoch 750 - loss: 0.0245 - accuracy: 0.9900\n",
            "Epoch 751 - loss: 0.0146 - accuracy: 0.9960\n",
            "Epoch 752 - loss: 0.0144 - accuracy: 0.9980\n",
            "Epoch 753 - loss: 0.0146 - accuracy: 0.9940\n",
            "Epoch 754 - loss: 0.0126 - accuracy: 0.9980\n",
            "Epoch 755 - loss: 0.0245 - accuracy: 0.9900\n",
            "Epoch 756 - loss: 0.0255 - accuracy: 0.9900\n",
            "Epoch 757 - loss: 0.0165 - accuracy: 0.9940\n",
            "Epoch 758 - loss: 0.0130 - accuracy: 0.9960\n",
            "Epoch 759 - loss: 0.0110 - accuracy: 0.9960\n",
            "Epoch 760 - loss: 0.0178 - accuracy: 0.9960\n",
            "Epoch 761 - loss: 0.0147 - accuracy: 0.9960\n",
            "Epoch 762 - loss: 0.0176 - accuracy: 0.9960\n",
            "Epoch 763 - loss: 0.0115 - accuracy: 0.9940\n",
            "Epoch 764 - loss: 0.0149 - accuracy: 0.9940\n",
            "Epoch 765 - loss: 0.0143 - accuracy: 0.9960\n",
            "Epoch 766 - loss: 0.0155 - accuracy: 0.9960\n",
            "Epoch 767 - loss: 0.0194 - accuracy: 0.9900\n",
            "Epoch 768 - loss: 0.0117 - accuracy: 0.9940\n",
            "Epoch 769 - loss: 0.0087 - accuracy: 0.9960\n",
            "Epoch 770 - loss: 0.0031 - accuracy: 1.0000\n",
            "Epoch 771 - loss: 0.0049 - accuracy: 0.9980\n",
            "Epoch 772 - loss: 0.0182 - accuracy: 0.9940\n",
            "Epoch 773 - loss: 0.0211 - accuracy: 0.9940\n",
            "Epoch 774 - loss: 0.0127 - accuracy: 0.9980\n",
            "Epoch 775 - loss: 0.0083 - accuracy: 0.9980\n",
            "Epoch 776 - loss: 0.0133 - accuracy: 0.9960\n",
            "Epoch 777 - loss: 0.0179 - accuracy: 0.9940\n",
            "Epoch 778 - loss: 0.0167 - accuracy: 0.9940\n",
            "Epoch 779 - loss: 0.0189 - accuracy: 0.9940\n",
            "Epoch 780 - loss: 0.0177 - accuracy: 0.9920\n",
            "Epoch 781 - loss: 0.0093 - accuracy: 0.9980\n",
            "Epoch 782 - loss: 0.0355 - accuracy: 0.9920\n",
            "Epoch 783 - loss: 0.0208 - accuracy: 0.9900\n",
            "Epoch 784 - loss: 0.0183 - accuracy: 0.9920\n",
            "Epoch 785 - loss: 0.0250 - accuracy: 0.9940\n",
            "Epoch 786 - loss: 0.0131 - accuracy: 0.9980\n",
            "Epoch 787 - loss: 0.0115 - accuracy: 0.9980\n",
            "Epoch 788 - loss: 0.0070 - accuracy: 0.9980\n",
            "Epoch 789 - loss: 0.0291 - accuracy: 0.9900\n",
            "Epoch 790 - loss: 0.0053 - accuracy: 1.0000\n",
            "Epoch 791 - loss: 0.0097 - accuracy: 0.9980\n",
            "Epoch 792 - loss: 0.0042 - accuracy: 1.0000\n",
            "Epoch 793 - loss: 0.0086 - accuracy: 0.9960\n",
            "Epoch 794 - loss: 0.0076 - accuracy: 0.9980\n",
            "Epoch 795 - loss: 0.0126 - accuracy: 0.9940\n",
            "Epoch 796 - loss: 0.0278 - accuracy: 0.9920\n",
            "Epoch 797 - loss: 0.0175 - accuracy: 0.9960\n",
            "Epoch 798 - loss: 0.0471 - accuracy: 0.9900\n",
            "Epoch 799 - loss: 0.0300 - accuracy: 0.9920\n",
            "Epoch 800 - loss: 0.0122 - accuracy: 0.9960\n",
            "Epoch 801 - loss: 0.0125 - accuracy: 0.9940\n",
            "Epoch 802 - loss: 0.0056 - accuracy: 0.9980\n",
            "Epoch 803 - loss: 0.0062 - accuracy: 0.9980\n",
            "Epoch 804 - loss: 0.0079 - accuracy: 0.9980\n",
            "Epoch 805 - loss: 0.0060 - accuracy: 0.9980\n",
            "Epoch 806 - loss: 0.0161 - accuracy: 0.9940\n",
            "Epoch 807 - loss: 0.0056 - accuracy: 0.9980\n",
            "Epoch 808 - loss: 0.0055 - accuracy: 0.9980\n",
            "Epoch 809 - loss: 0.0117 - accuracy: 0.9940\n",
            "Epoch 810 - loss: 0.0211 - accuracy: 0.9900\n",
            "Epoch 811 - loss: 0.0324 - accuracy: 0.9860\n",
            "Epoch 812 - loss: 0.0128 - accuracy: 0.9940\n",
            "Epoch 813 - loss: 0.0224 - accuracy: 0.9960\n",
            "Epoch 814 - loss: 0.0126 - accuracy: 0.9960\n",
            "Epoch 815 - loss: 0.0114 - accuracy: 0.9960\n",
            "Epoch 816 - loss: 0.0120 - accuracy: 0.9960\n",
            "Epoch 817 - loss: 0.0271 - accuracy: 0.9920\n",
            "Epoch 818 - loss: 0.0300 - accuracy: 0.9920\n",
            "Epoch 819 - loss: 0.0455 - accuracy: 0.9920\n",
            "Epoch 820 - loss: 0.0382 - accuracy: 0.9900\n",
            "Epoch 821 - loss: 0.0168 - accuracy: 0.9940\n",
            "Epoch 822 - loss: 0.0113 - accuracy: 0.9960\n",
            "Epoch 823 - loss: 0.0318 - accuracy: 0.9900\n",
            "Epoch 824 - loss: 0.0132 - accuracy: 0.9960\n",
            "Epoch 825 - loss: 0.0248 - accuracy: 0.9920\n",
            "Epoch 826 - loss: 0.0219 - accuracy: 0.9920\n",
            "Epoch 827 - loss: 0.0074 - accuracy: 0.9980\n",
            "Epoch 828 - loss: 0.0110 - accuracy: 0.9960\n",
            "Epoch 829 - loss: 0.0070 - accuracy: 0.9980\n",
            "Epoch 830 - loss: 0.0101 - accuracy: 0.9980\n",
            "Epoch 831 - loss: 0.0042 - accuracy: 0.9980\n",
            "Epoch 832 - loss: 0.0052 - accuracy: 0.9980\n",
            "Epoch 833 - loss: 0.0093 - accuracy: 0.9980\n",
            "Epoch 834 - loss: 0.0049 - accuracy: 0.9980\n",
            "Epoch 835 - loss: 0.0063 - accuracy: 0.9980\n",
            "Epoch 836 - loss: 0.0256 - accuracy: 0.9960\n",
            "Epoch 837 - loss: 0.0126 - accuracy: 0.9940\n",
            "Epoch 838 - loss: 0.0263 - accuracy: 0.9980\n",
            "Epoch 839 - loss: 0.0160 - accuracy: 0.9940\n",
            "Epoch 840 - loss: 0.0109 - accuracy: 0.9980\n",
            "Epoch 841 - loss: 0.0157 - accuracy: 0.9920\n",
            "Epoch 842 - loss: 0.0225 - accuracy: 0.9880\n",
            "Epoch 843 - loss: 0.0257 - accuracy: 0.9900\n",
            "Epoch 844 - loss: 0.0293 - accuracy: 0.9900\n",
            "Epoch 845 - loss: 0.0551 - accuracy: 0.9860\n",
            "Epoch 846 - loss: 0.0369 - accuracy: 0.9860\n",
            "Epoch 847 - loss: 0.0133 - accuracy: 0.9960\n",
            "Epoch 848 - loss: 0.0261 - accuracy: 0.9900\n",
            "Epoch 849 - loss: 0.0226 - accuracy: 0.9900\n",
            "Epoch 850 - loss: 0.0457 - accuracy: 0.9880\n",
            "Epoch 851 - loss: 0.0140 - accuracy: 0.9940\n",
            "Epoch 852 - loss: 0.0229 - accuracy: 0.9900\n",
            "Epoch 853 - loss: 0.0113 - accuracy: 0.9980\n",
            "Epoch 854 - loss: 0.0242 - accuracy: 0.9960\n",
            "Epoch 855 - loss: 0.0220 - accuracy: 0.9920\n",
            "Epoch 856 - loss: 0.0234 - accuracy: 0.9960\n",
            "Epoch 857 - loss: 0.0093 - accuracy: 0.9940\n",
            "Epoch 858 - loss: 0.0108 - accuracy: 0.9960\n",
            "Epoch 859 - loss: 0.0115 - accuracy: 0.9960\n",
            "Epoch 860 - loss: 0.0017 - accuracy: 1.0000\n",
            "Epoch 861 - loss: 0.0073 - accuracy: 0.9980\n",
            "Epoch 862 - loss: 0.0078 - accuracy: 0.9960\n",
            "Epoch 863 - loss: 0.0047 - accuracy: 0.9980\n",
            "Epoch 864 - loss: 0.0075 - accuracy: 0.9980\n",
            "Epoch 865 - loss: 0.0078 - accuracy: 0.9960\n",
            "Epoch 866 - loss: 0.0102 - accuracy: 0.9960\n",
            "Epoch 867 - loss: 0.0026 - accuracy: 1.0000\n",
            "Epoch 868 - loss: 0.0045 - accuracy: 1.0000\n",
            "Epoch 869 - loss: 0.0030 - accuracy: 1.0000\n",
            "Epoch 870 - loss: 0.0022 - accuracy: 1.0000\n",
            "Epoch 871 - loss: 0.0063 - accuracy: 0.9980\n",
            "Epoch 872 - loss: 0.0089 - accuracy: 0.9960\n",
            "Epoch 873 - loss: 0.0050 - accuracy: 0.9980\n",
            "Epoch 874 - loss: 0.0054 - accuracy: 0.9980\n",
            "Epoch 875 - loss: 0.0057 - accuracy: 0.9980\n",
            "Epoch 876 - loss: 0.0065 - accuracy: 0.9980\n",
            "Epoch 877 - loss: 0.0028 - accuracy: 1.0000\n",
            "Epoch 878 - loss: 0.0112 - accuracy: 0.9960\n",
            "Epoch 879 - loss: 0.0065 - accuracy: 0.9980\n",
            "Epoch 880 - loss: 0.0036 - accuracy: 0.9980\n",
            "Epoch 881 - loss: 0.0069 - accuracy: 0.9960\n",
            "Epoch 882 - loss: 0.0075 - accuracy: 0.9960\n",
            "Epoch 883 - loss: 0.0153 - accuracy: 0.9980\n",
            "Epoch 884 - loss: 0.0027 - accuracy: 1.0000\n",
            "Epoch 885 - loss: 0.0061 - accuracy: 0.9980\n",
            "Epoch 886 - loss: 0.0046 - accuracy: 0.9980\n",
            "Epoch 887 - loss: 0.0099 - accuracy: 0.9960\n",
            "Epoch 888 - loss: 0.0135 - accuracy: 0.9940\n",
            "Epoch 889 - loss: 0.0099 - accuracy: 0.9940\n",
            "Epoch 890 - loss: 0.0087 - accuracy: 0.9960\n",
            "Epoch 891 - loss: 0.0133 - accuracy: 0.9960\n",
            "Epoch 892 - loss: 0.0097 - accuracy: 0.9960\n",
            "Epoch 893 - loss: 0.0361 - accuracy: 0.9900\n",
            "Epoch 894 - loss: 0.0090 - accuracy: 0.9980\n",
            "Epoch 895 - loss: 0.0081 - accuracy: 0.9960\n",
            "Epoch 896 - loss: 0.0048 - accuracy: 1.0000\n",
            "Epoch 897 - loss: 0.0237 - accuracy: 0.9900\n",
            "Epoch 898 - loss: 0.0194 - accuracy: 0.9940\n",
            "Epoch 899 - loss: 0.0335 - accuracy: 0.9880\n",
            "Epoch 900 - loss: 0.0455 - accuracy: 0.9860\n",
            "Epoch 901 - loss: 0.0588 - accuracy: 0.9720\n",
            "Epoch 902 - loss: 0.0937 - accuracy: 0.9740\n",
            "Epoch 903 - loss: 0.0423 - accuracy: 0.9880\n",
            "Epoch 904 - loss: 0.0358 - accuracy: 0.9920\n",
            "Epoch 905 - loss: 0.0540 - accuracy: 0.9820\n",
            "Epoch 906 - loss: 0.0271 - accuracy: 0.9940\n",
            "Epoch 907 - loss: 0.0130 - accuracy: 0.9960\n",
            "Epoch 908 - loss: 0.0132 - accuracy: 0.9940\n",
            "Epoch 909 - loss: 0.0128 - accuracy: 0.9940\n",
            "Epoch 910 - loss: 0.0118 - accuracy: 0.9960\n",
            "Epoch 911 - loss: 0.0073 - accuracy: 0.9980\n",
            "Epoch 912 - loss: 0.0051 - accuracy: 1.0000\n",
            "Epoch 913 - loss: 0.0082 - accuracy: 0.9980\n",
            "Epoch 914 - loss: 0.0267 - accuracy: 0.9920\n",
            "Epoch 915 - loss: 0.0078 - accuracy: 0.9980\n",
            "Epoch 916 - loss: 0.0178 - accuracy: 0.9940\n",
            "Epoch 917 - loss: 0.0032 - accuracy: 1.0000\n",
            "Epoch 918 - loss: 0.0142 - accuracy: 0.9920\n",
            "Epoch 919 - loss: 0.0069 - accuracy: 0.9960\n",
            "Epoch 920 - loss: 0.0085 - accuracy: 0.9960\n",
            "Epoch 921 - loss: 0.0120 - accuracy: 0.9960\n",
            "Epoch 922 - loss: 0.0091 - accuracy: 0.9980\n",
            "Epoch 923 - loss: 0.0022 - accuracy: 1.0000\n",
            "Epoch 924 - loss: 0.0062 - accuracy: 0.9980\n",
            "Epoch 925 - loss: 0.0049 - accuracy: 0.9980\n",
            "Epoch 926 - loss: 0.0052 - accuracy: 1.0000\n",
            "Epoch 927 - loss: 0.0077 - accuracy: 0.9960\n",
            "Epoch 928 - loss: 0.0034 - accuracy: 0.9980\n",
            "Epoch 929 - loss: 0.0088 - accuracy: 0.9960\n",
            "Epoch 930 - loss: 0.0108 - accuracy: 0.9940\n",
            "Epoch 931 - loss: 0.0067 - accuracy: 0.9980\n",
            "Epoch 932 - loss: 0.0094 - accuracy: 0.9940\n",
            "Epoch 933 - loss: 0.0127 - accuracy: 0.9940\n",
            "Epoch 934 - loss: 0.0275 - accuracy: 0.9880\n",
            "Epoch 935 - loss: 0.0393 - accuracy: 0.9920\n",
            "Epoch 936 - loss: 0.0313 - accuracy: 0.9880\n",
            "Epoch 937 - loss: 0.0404 - accuracy: 0.9920\n",
            "Epoch 938 - loss: 0.0404 - accuracy: 0.9880\n",
            "Epoch 939 - loss: 0.0276 - accuracy: 0.9940\n",
            "Epoch 940 - loss: 0.0163 - accuracy: 0.9940\n",
            "Epoch 941 - loss: 0.0206 - accuracy: 0.9940\n",
            "Epoch 942 - loss: 0.0053 - accuracy: 0.9980\n",
            "Epoch 943 - loss: 0.0102 - accuracy: 0.9980\n",
            "Epoch 944 - loss: 0.0029 - accuracy: 1.0000\n",
            "Epoch 945 - loss: 0.0037 - accuracy: 0.9980\n",
            "Epoch 946 - loss: 0.0039 - accuracy: 0.9980\n",
            "Epoch 947 - loss: 0.0047 - accuracy: 0.9980\n",
            "Epoch 948 - loss: 0.0064 - accuracy: 0.9960\n",
            "Epoch 949 - loss: 0.0101 - accuracy: 0.9940\n",
            "Epoch 950 - loss: 0.0049 - accuracy: 0.9980\n",
            "Epoch 951 - loss: 0.0194 - accuracy: 0.9920\n",
            "Epoch 952 - loss: 0.0259 - accuracy: 0.9900\n",
            "Epoch 953 - loss: 0.0038 - accuracy: 1.0000\n",
            "Epoch 954 - loss: 0.0296 - accuracy: 0.9940\n",
            "Epoch 955 - loss: 0.0332 - accuracy: 0.9920\n",
            "Epoch 956 - loss: 0.0079 - accuracy: 0.9980\n",
            "Epoch 957 - loss: 0.0087 - accuracy: 0.9960\n",
            "Epoch 958 - loss: 0.0143 - accuracy: 0.9960\n",
            "Epoch 959 - loss: 0.0212 - accuracy: 0.9920\n",
            "Epoch 960 - loss: 0.0113 - accuracy: 0.9940\n",
            "Epoch 961 - loss: 0.0120 - accuracy: 0.9940\n",
            "Epoch 962 - loss: 0.0105 - accuracy: 0.9960\n",
            "Epoch 963 - loss: 0.0099 - accuracy: 0.9960\n",
            "Epoch 964 - loss: 0.0087 - accuracy: 0.9980\n",
            "Epoch 965 - loss: 0.0064 - accuracy: 0.9980\n",
            "Epoch 966 - loss: 0.0134 - accuracy: 0.9940\n",
            "Epoch 967 - loss: 0.0167 - accuracy: 0.9940\n",
            "Epoch 968 - loss: 0.0156 - accuracy: 0.9960\n",
            "Epoch 969 - loss: 0.0152 - accuracy: 0.9940\n",
            "Epoch 970 - loss: 0.0098 - accuracy: 0.9960\n",
            "Epoch 971 - loss: 0.0072 - accuracy: 0.9980\n",
            "Epoch 972 - loss: 0.0045 - accuracy: 0.9980\n",
            "Epoch 973 - loss: 0.0262 - accuracy: 0.9920\n",
            "Epoch 974 - loss: 0.0030 - accuracy: 1.0000\n",
            "Epoch 975 - loss: 0.0098 - accuracy: 0.9940\n",
            "Epoch 976 - loss: 0.0012 - accuracy: 1.0000\n",
            "Epoch 977 - loss: 0.0082 - accuracy: 0.9960\n",
            "Epoch 978 - loss: 0.0099 - accuracy: 0.9940\n",
            "Epoch 979 - loss: 0.0038 - accuracy: 0.9980\n",
            "Epoch 980 - loss: 0.0021 - accuracy: 1.0000\n",
            "Epoch 981 - loss: 0.0312 - accuracy: 0.9920\n",
            "Epoch 982 - loss: 0.0138 - accuracy: 0.9920\n",
            "Epoch 983 - loss: 0.0314 - accuracy: 0.9940\n",
            "Epoch 984 - loss: 0.0174 - accuracy: 0.9940\n",
            "Epoch 985 - loss: 0.0254 - accuracy: 0.9920\n",
            "Epoch 986 - loss: 0.0296 - accuracy: 0.9940\n",
            "Epoch 987 - loss: 0.0137 - accuracy: 0.9960\n",
            "Epoch 988 - loss: 0.0074 - accuracy: 0.9980\n",
            "Epoch 989 - loss: 0.0061 - accuracy: 0.9980\n",
            "Epoch 990 - loss: 0.0248 - accuracy: 0.9940\n",
            "Epoch 991 - loss: 0.0135 - accuracy: 0.9940\n",
            "Epoch 992 - loss: 0.0098 - accuracy: 0.9960\n",
            "Epoch 993 - loss: 0.0203 - accuracy: 0.9940\n",
            "Epoch 994 - loss: 0.0070 - accuracy: 0.9980\n",
            "Epoch 995 - loss: 0.0176 - accuracy: 0.9960\n",
            "Epoch 996 - loss: 0.0386 - accuracy: 0.9900\n",
            "Epoch 997 - loss: 0.0083 - accuracy: 0.9960\n",
            "Epoch 998 - loss: 0.0059 - accuracy: 1.0000\n",
            "Epoch 999 - loss: 0.0078 - accuracy: 0.9980\n",
            "Epoch 1000 - loss: 0.0040 - accuracy: 1.0000\n"
          ]
        }
      ]
    },
    {
      "cell_type": "code",
      "source": [
        "evaluate_model(model, test_dl)"
      ],
      "metadata": {
        "colab": {
          "base_uri": "https://localhost:8080/"
        },
        "id": "wekiJxoz8bFI",
        "outputId": "537e52aa-1005-4e6e-95c6-0fd3dd44c2e2"
      },
      "execution_count": null,
      "outputs": [
        {
          "output_type": "stream",
          "name": "stdout",
          "text": [
            "Accuracy on test set: 77.88%\n"
          ]
        }
      ]
    },
    {
      "cell_type": "code",
      "source": [
        "from torchvision.models import resnet18\n",
        "my_resnet = resnet18(weights='IMAGENET1K_V1')"
      ],
      "metadata": {
        "id": "EyJwfgZm9ra6"
      },
      "execution_count": null,
      "outputs": []
    },
    {
      "cell_type": "code",
      "source": [
        "my_resnet.conv1 = nn.Conv2d(1, 64, kernel_size = 7, stride = 2, padding = 3, bias = False)"
      ],
      "metadata": {
        "id": "V_WkHET99rQL"
      },
      "execution_count": null,
      "outputs": []
    },
    {
      "cell_type": "code",
      "source": [
        "num_ftrs = my_resnet.fc.in_features\n",
        "my_resnet.fc = nn.Linear(num_ftrs, 10)"
      ],
      "metadata": {
        "id": "lxCYPDku-Om0"
      },
      "execution_count": null,
      "outputs": []
    },
    {
      "cell_type": "code",
      "source": [
        "my_resnet = my_resnet.to(device)\n",
        "optimizer = torch.optim.Adam(my_resnet.parameters(), lr=0.001)\n",
        "train(my_resnet, optimizer, 10, train_dl)"
      ],
      "metadata": {
        "colab": {
          "base_uri": "https://localhost:8080/"
        },
        "id": "fjMS8C1r-beg",
        "outputId": "1c19a8dd-1463-4f42-fbf1-df18c461be4b"
      },
      "execution_count": null,
      "outputs": [
        {
          "output_type": "stream",
          "name": "stdout",
          "text": [
            "Epoch 1 - loss: 0.4881 - accuracy: 0.8271\n",
            "Epoch 2 - loss: 0.3504 - accuracy: 0.8751\n",
            "Epoch 3 - loss: 0.2864 - accuracy: 0.8951\n",
            "Epoch 4 - loss: 0.2645 - accuracy: 0.9041\n",
            "Epoch 5 - loss: 0.2538 - accuracy: 0.9093\n",
            "Epoch 6 - loss: 0.2181 - accuracy: 0.9210\n",
            "Epoch 7 - loss: 0.1952 - accuracy: 0.9284\n",
            "Epoch 8 - loss: 0.1763 - accuracy: 0.9342\n",
            "Epoch 9 - loss: 0.1597 - accuracy: 0.9405\n",
            "Epoch 10 - loss: 0.1421 - accuracy: 0.9470\n"
          ]
        }
      ]
    },
    {
      "cell_type": "code",
      "source": [
        "evaluate_model(my_resnet, test_dl)\n"
      ],
      "metadata": {
        "colab": {
          "base_uri": "https://localhost:8080/"
        },
        "id": "0IsGtbP9_E4e",
        "outputId": "d331b5e3-d24c-4c40-b1a2-6cc96131a83a"
      },
      "execution_count": null,
      "outputs": [
        {
          "output_type": "stream",
          "name": "stdout",
          "text": [
            "Accuracy on test set: 90.94%\n"
          ]
        }
      ]
    }
  ],
  "metadata": {
    "colab": {
      "provenance": [],
      "gpuType": "T4",
      "authorship_tag": "ABX9TyM0MIFkAh5eFjarDft0MuvS",
      "include_colab_link": true
    },
    "kernelspec": {
      "display_name": "Python 3",
      "name": "python3"
    },
    "language_info": {
      "name": "python"
    },
    "accelerator": "GPU"
  },
  "nbformat": 4,
  "nbformat_minor": 0
}